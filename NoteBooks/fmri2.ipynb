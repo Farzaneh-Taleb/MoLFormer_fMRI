{
 "cells": [
  {
   "metadata": {
    "jupyter": {
     "is_executing": true
    }
   },
   "cell_type": "code",
   "source": [
    "import os\n",
    "import sys\n",
    "parent_dir = \"/Midgard/home/farzantn/phd/Olfaction/MoLFormer_N2024\"\n",
    "sys.path.append(parent_dir)\n",
    "parent_dir=\"/Midgard/home/farzantn/mambaforge/envs/MolTran_CUDA11_cuda/lib/python3.8\"\n",
    "sys.path.append(parent_dir)"
   ],
   "id": "c5da6586d1206d40",
   "outputs": [],
   "execution_count": null
  },
  {
   "cell_type": "code",
   "id": "a8524742-4851-4c08-9e2b-542465d42aa2",
   "metadata": {
    "ExecuteTime": {
     "end_time": "2024-07-18T11:28:57.655591Z",
     "start_time": "2024-07-18T11:28:53.962584Z"
    }
   },
   "source": [
    "\n",
    "import scipy.io as sio\n",
    "parent_dir=\"/Midgard/home/farzantn/mambaforge/envs/MolTran_CUDA11_cuda/lib/python3.8\"\n",
    "sys.path.append(parent_dir)\n",
    "path='/local_storage/datasets/farzaneh/Olfaction/fmri_test/'\n",
    "from utils.ridge_tools import *\n",
    "import pandas as pd\n",
    "import ast\n",
    "base_directory = ''\n",
    "import scipy\n",
    "from utils.random_methods import *"
   ],
   "outputs": [],
   "execution_count": 2
  },
  {
   "metadata": {},
   "cell_type": "code",
   "outputs": [],
   "execution_count": null,
   "source": "",
   "id": "407eec6e06ffa7b7"
  },
  {
   "metadata": {},
   "cell_type": "code",
   "outputs": [],
   "execution_count": null,
   "source": "",
   "id": "93f002907bc2fd86"
  },
  {
   "metadata": {},
   "cell_type": "code",
   "outputs": [],
   "execution_count": null,
   "source": "",
   "id": "b3c69f5992e3f0fc"
  },
  {
   "metadata": {},
   "cell_type": "code",
   "outputs": [],
   "execution_count": null,
   "source": "",
   "id": "8258243f80989c8d"
  },
  {
   "metadata": {},
   "cell_type": "code",
   "outputs": [],
   "execution_count": null,
   "source": "",
   "id": "4d6d308a6c9ee322"
  },
  {
   "metadata": {},
   "cell_type": "markdown",
   "source": "# finding fine-grained and coarse-level similarity between molecules",
   "id": "145c31280bac9d14"
  },
  {
   "metadata": {
    "ExecuteTime": {
     "end_time": "2024-07-18T11:28:57.670442Z",
     "start_time": "2024-07-18T11:28:57.658293Z"
    }
   },
   "cell_type": "code",
   "source": "sagar_ds = pd.read_csv('/local_storage/datasets/farzaneh/alignment_olfaction_datasets/curated_datasets/mols_datasets/curated_sagar_subjects_nonaminus.csv')",
   "id": "7b2a724644884f85",
   "outputs": [],
   "execution_count": 3
  },
  {
   "metadata": {
    "ExecuteTime": {
     "end_time": "2024-07-18T11:28:57.711139Z",
     "start_time": "2024-07-18T11:28:57.672421Z"
    }
   },
   "cell_type": "code",
   "source": "sagar_ds",
   "id": "2de66d04a729dedf",
   "outputs": [
    {
     "data": {
      "text/plain": [
       "     mol index  Intensity  Pleasantness     Fishy     Burnt      Sour  \\\n",
       "0            0  -0.855639     -0.706475 -1.000000 -1.000000 -0.829167   \n",
       "1            1  -0.842105     -0.248921 -0.971084 -1.000000 -0.908333   \n",
       "2            2  -1.000000      0.191581 -1.000000 -1.000000 -0.642413   \n",
       "3            3  -1.000000      0.014388 -0.682525 -1.000000 -1.000000   \n",
       "4            4  -0.016541      0.789928 -1.000000 -0.994764 -0.991667   \n",
       "..         ...        ...           ...       ...       ...       ...   \n",
       "475        155  -0.281250     -0.250000 -0.500000 -0.391667 -0.462500   \n",
       "476        156  -0.508333     -0.418750 -1.000000 -0.741667 -0.950000   \n",
       "477        157  -0.695833     -0.241667 -1.000000 -0.381250 -0.945833   \n",
       "478        158  -0.187500     -0.277083 -0.250000 -0.189583 -0.641667   \n",
       "479        159  -0.500000     -0.108333 -0.500000 -0.435417 -0.466667   \n",
       "\n",
       "      Decayed     Musky    Fruity    Sweaty  ...    Floral     Sweet  \\\n",
       "0   -0.958333 -0.364355 -0.609139 -0.483075  ... -0.422096 -0.558333   \n",
       "1   -0.479167  0.008333 -0.508333 -0.478701  ... -0.576163  0.462500   \n",
       "2   -1.000000 -0.372387 -1.000000 -0.438162  ... -0.988669 -0.302147   \n",
       "3   -0.525000 -0.380498 -0.761828 -1.000000  ... -1.000000 -0.430966   \n",
       "4   -0.508333 -1.000000  0.908333  0.303483  ... -0.372412 -0.108333   \n",
       "..        ...       ...       ...       ...  ...       ...       ...   \n",
       "475 -0.250000 -0.500000 -0.316667 -0.250000  ... -0.443750 -0.429167   \n",
       "476 -1.000000 -1.000000 -1.000000 -0.983333  ... -0.422917 -0.652083   \n",
       "477 -0.500000 -0.831250 -0.950000 -1.000000  ... -0.345833 -0.816667   \n",
       "478 -0.250000 -0.197917 -0.427083 -0.750000  ... -0.191667 -0.133333   \n",
       "479 -0.500000 -0.766667 -0.393750 -0.250000  ... -0.458333 -0.370833   \n",
       "\n",
       "         Warm    Bakery     Spicy    detect      cid  \\\n",
       "0   -0.222780 -0.662480 -0.797087  0.200000      126   \n",
       "1    0.562791  0.642857 -1.000000  0.466667      177   \n",
       "2   -1.000000 -0.622368 -0.776247  0.166667      196   \n",
       "3   -0.609302 -0.660859 -0.989691  0.066667      239   \n",
       "4    0.339535  0.044643 -0.774490  0.766667      240   \n",
       "..        ...       ...       ...       ...      ...   \n",
       "475 -0.552083 -0.920833 -0.404167  0.370370   643820   \n",
       "476 -0.677083 -0.554167 -0.793750  0.740741  3578033   \n",
       "477 -0.304167 -0.375000 -1.000000  0.629630  5365027   \n",
       "478 -0.177083 -0.681250 -0.529167  0.333333  5366244   \n",
       "479 -0.612500 -0.252083 -0.252083  0.222222  6999977   \n",
       "\n",
       "                        IsomericSMILES                 nonStereoSMILES subject  \n",
       "0                    C1=CC(=CC=C1C=O)O                  O=Cc1ccc(O)cc1       1  \n",
       "1                                 CC=O                            CC=O       1  \n",
       "2                   C(CCC(=O)O)CC(=O)O                O=C(O)CCCCC(=O)O       1  \n",
       "3                          C(CN)C(=O)O                       NCCC(=O)O       1  \n",
       "4                     C1=CC=C(C=C1)C=O                     O=Cc1ccccc1       1  \n",
       "..                                 ...                             ...     ...  \n",
       "475               CC(=CCC/C(=C\\CO)/C)C               CC(C)=CCCC(C)=CCO       3  \n",
       "476               CC1=CC=C(O1)C(C)CC=O              Cc1ccc(C(C)CC=O)o1       3  \n",
       "477                      CCCCCC/C=C\\CO                     CCCCCCC=CCO       3  \n",
       "478  CC(C)CCCC(C)CCCC(C)CCC/C(=C/CO)/C  CC(=CCO)CCCC(C)CCCC(C)CCCC(C)C       3  \n",
       "479                CCCCOC(=O)[C@H](C)O                 CCCCOC(=O)C(C)O       3  \n",
       "\n",
       "[480 rows x 21 columns]"
      ],
      "text/html": [
       "<div>\n",
       "<style scoped>\n",
       "    .dataframe tbody tr th:only-of-type {\n",
       "        vertical-align: middle;\n",
       "    }\n",
       "\n",
       "    .dataframe tbody tr th {\n",
       "        vertical-align: top;\n",
       "    }\n",
       "\n",
       "    .dataframe thead th {\n",
       "        text-align: right;\n",
       "    }\n",
       "</style>\n",
       "<table border=\"1\" class=\"dataframe\">\n",
       "  <thead>\n",
       "    <tr style=\"text-align: right;\">\n",
       "      <th></th>\n",
       "      <th>mol index</th>\n",
       "      <th>Intensity</th>\n",
       "      <th>Pleasantness</th>\n",
       "      <th>Fishy</th>\n",
       "      <th>Burnt</th>\n",
       "      <th>Sour</th>\n",
       "      <th>Decayed</th>\n",
       "      <th>Musky</th>\n",
       "      <th>Fruity</th>\n",
       "      <th>Sweaty</th>\n",
       "      <th>...</th>\n",
       "      <th>Floral</th>\n",
       "      <th>Sweet</th>\n",
       "      <th>Warm</th>\n",
       "      <th>Bakery</th>\n",
       "      <th>Spicy</th>\n",
       "      <th>detect</th>\n",
       "      <th>cid</th>\n",
       "      <th>IsomericSMILES</th>\n",
       "      <th>nonStereoSMILES</th>\n",
       "      <th>subject</th>\n",
       "    </tr>\n",
       "  </thead>\n",
       "  <tbody>\n",
       "    <tr>\n",
       "      <th>0</th>\n",
       "      <td>0</td>\n",
       "      <td>-0.855639</td>\n",
       "      <td>-0.706475</td>\n",
       "      <td>-1.000000</td>\n",
       "      <td>-1.000000</td>\n",
       "      <td>-0.829167</td>\n",
       "      <td>-0.958333</td>\n",
       "      <td>-0.364355</td>\n",
       "      <td>-0.609139</td>\n",
       "      <td>-0.483075</td>\n",
       "      <td>...</td>\n",
       "      <td>-0.422096</td>\n",
       "      <td>-0.558333</td>\n",
       "      <td>-0.222780</td>\n",
       "      <td>-0.662480</td>\n",
       "      <td>-0.797087</td>\n",
       "      <td>0.200000</td>\n",
       "      <td>126</td>\n",
       "      <td>C1=CC(=CC=C1C=O)O</td>\n",
       "      <td>O=Cc1ccc(O)cc1</td>\n",
       "      <td>1</td>\n",
       "    </tr>\n",
       "    <tr>\n",
       "      <th>1</th>\n",
       "      <td>1</td>\n",
       "      <td>-0.842105</td>\n",
       "      <td>-0.248921</td>\n",
       "      <td>-0.971084</td>\n",
       "      <td>-1.000000</td>\n",
       "      <td>-0.908333</td>\n",
       "      <td>-0.479167</td>\n",
       "      <td>0.008333</td>\n",
       "      <td>-0.508333</td>\n",
       "      <td>-0.478701</td>\n",
       "      <td>...</td>\n",
       "      <td>-0.576163</td>\n",
       "      <td>0.462500</td>\n",
       "      <td>0.562791</td>\n",
       "      <td>0.642857</td>\n",
       "      <td>-1.000000</td>\n",
       "      <td>0.466667</td>\n",
       "      <td>177</td>\n",
       "      <td>CC=O</td>\n",
       "      <td>CC=O</td>\n",
       "      <td>1</td>\n",
       "    </tr>\n",
       "    <tr>\n",
       "      <th>2</th>\n",
       "      <td>2</td>\n",
       "      <td>-1.000000</td>\n",
       "      <td>0.191581</td>\n",
       "      <td>-1.000000</td>\n",
       "      <td>-1.000000</td>\n",
       "      <td>-0.642413</td>\n",
       "      <td>-1.000000</td>\n",
       "      <td>-0.372387</td>\n",
       "      <td>-1.000000</td>\n",
       "      <td>-0.438162</td>\n",
       "      <td>...</td>\n",
       "      <td>-0.988669</td>\n",
       "      <td>-0.302147</td>\n",
       "      <td>-1.000000</td>\n",
       "      <td>-0.622368</td>\n",
       "      <td>-0.776247</td>\n",
       "      <td>0.166667</td>\n",
       "      <td>196</td>\n",
       "      <td>C(CCC(=O)O)CC(=O)O</td>\n",
       "      <td>O=C(O)CCCCC(=O)O</td>\n",
       "      <td>1</td>\n",
       "    </tr>\n",
       "    <tr>\n",
       "      <th>3</th>\n",
       "      <td>3</td>\n",
       "      <td>-1.000000</td>\n",
       "      <td>0.014388</td>\n",
       "      <td>-0.682525</td>\n",
       "      <td>-1.000000</td>\n",
       "      <td>-1.000000</td>\n",
       "      <td>-0.525000</td>\n",
       "      <td>-0.380498</td>\n",
       "      <td>-0.761828</td>\n",
       "      <td>-1.000000</td>\n",
       "      <td>...</td>\n",
       "      <td>-1.000000</td>\n",
       "      <td>-0.430966</td>\n",
       "      <td>-0.609302</td>\n",
       "      <td>-0.660859</td>\n",
       "      <td>-0.989691</td>\n",
       "      <td>0.066667</td>\n",
       "      <td>239</td>\n",
       "      <td>C(CN)C(=O)O</td>\n",
       "      <td>NCCC(=O)O</td>\n",
       "      <td>1</td>\n",
       "    </tr>\n",
       "    <tr>\n",
       "      <th>4</th>\n",
       "      <td>4</td>\n",
       "      <td>-0.016541</td>\n",
       "      <td>0.789928</td>\n",
       "      <td>-1.000000</td>\n",
       "      <td>-0.994764</td>\n",
       "      <td>-0.991667</td>\n",
       "      <td>-0.508333</td>\n",
       "      <td>-1.000000</td>\n",
       "      <td>0.908333</td>\n",
       "      <td>0.303483</td>\n",
       "      <td>...</td>\n",
       "      <td>-0.372412</td>\n",
       "      <td>-0.108333</td>\n",
       "      <td>0.339535</td>\n",
       "      <td>0.044643</td>\n",
       "      <td>-0.774490</td>\n",
       "      <td>0.766667</td>\n",
       "      <td>240</td>\n",
       "      <td>C1=CC=C(C=C1)C=O</td>\n",
       "      <td>O=Cc1ccccc1</td>\n",
       "      <td>1</td>\n",
       "    </tr>\n",
       "    <tr>\n",
       "      <th>...</th>\n",
       "      <td>...</td>\n",
       "      <td>...</td>\n",
       "      <td>...</td>\n",
       "      <td>...</td>\n",
       "      <td>...</td>\n",
       "      <td>...</td>\n",
       "      <td>...</td>\n",
       "      <td>...</td>\n",
       "      <td>...</td>\n",
       "      <td>...</td>\n",
       "      <td>...</td>\n",
       "      <td>...</td>\n",
       "      <td>...</td>\n",
       "      <td>...</td>\n",
       "      <td>...</td>\n",
       "      <td>...</td>\n",
       "      <td>...</td>\n",
       "      <td>...</td>\n",
       "      <td>...</td>\n",
       "      <td>...</td>\n",
       "      <td>...</td>\n",
       "    </tr>\n",
       "    <tr>\n",
       "      <th>475</th>\n",
       "      <td>155</td>\n",
       "      <td>-0.281250</td>\n",
       "      <td>-0.250000</td>\n",
       "      <td>-0.500000</td>\n",
       "      <td>-0.391667</td>\n",
       "      <td>-0.462500</td>\n",
       "      <td>-0.250000</td>\n",
       "      <td>-0.500000</td>\n",
       "      <td>-0.316667</td>\n",
       "      <td>-0.250000</td>\n",
       "      <td>...</td>\n",
       "      <td>-0.443750</td>\n",
       "      <td>-0.429167</td>\n",
       "      <td>-0.552083</td>\n",
       "      <td>-0.920833</td>\n",
       "      <td>-0.404167</td>\n",
       "      <td>0.370370</td>\n",
       "      <td>643820</td>\n",
       "      <td>CC(=CCC/C(=C\\CO)/C)C</td>\n",
       "      <td>CC(C)=CCCC(C)=CCO</td>\n",
       "      <td>3</td>\n",
       "    </tr>\n",
       "    <tr>\n",
       "      <th>476</th>\n",
       "      <td>156</td>\n",
       "      <td>-0.508333</td>\n",
       "      <td>-0.418750</td>\n",
       "      <td>-1.000000</td>\n",
       "      <td>-0.741667</td>\n",
       "      <td>-0.950000</td>\n",
       "      <td>-1.000000</td>\n",
       "      <td>-1.000000</td>\n",
       "      <td>-1.000000</td>\n",
       "      <td>-0.983333</td>\n",
       "      <td>...</td>\n",
       "      <td>-0.422917</td>\n",
       "      <td>-0.652083</td>\n",
       "      <td>-0.677083</td>\n",
       "      <td>-0.554167</td>\n",
       "      <td>-0.793750</td>\n",
       "      <td>0.740741</td>\n",
       "      <td>3578033</td>\n",
       "      <td>CC1=CC=C(O1)C(C)CC=O</td>\n",
       "      <td>Cc1ccc(C(C)CC=O)o1</td>\n",
       "      <td>3</td>\n",
       "    </tr>\n",
       "    <tr>\n",
       "      <th>477</th>\n",
       "      <td>157</td>\n",
       "      <td>-0.695833</td>\n",
       "      <td>-0.241667</td>\n",
       "      <td>-1.000000</td>\n",
       "      <td>-0.381250</td>\n",
       "      <td>-0.945833</td>\n",
       "      <td>-0.500000</td>\n",
       "      <td>-0.831250</td>\n",
       "      <td>-0.950000</td>\n",
       "      <td>-1.000000</td>\n",
       "      <td>...</td>\n",
       "      <td>-0.345833</td>\n",
       "      <td>-0.816667</td>\n",
       "      <td>-0.304167</td>\n",
       "      <td>-0.375000</td>\n",
       "      <td>-1.000000</td>\n",
       "      <td>0.629630</td>\n",
       "      <td>5365027</td>\n",
       "      <td>CCCCCC/C=C\\CO</td>\n",
       "      <td>CCCCCCC=CCO</td>\n",
       "      <td>3</td>\n",
       "    </tr>\n",
       "    <tr>\n",
       "      <th>478</th>\n",
       "      <td>158</td>\n",
       "      <td>-0.187500</td>\n",
       "      <td>-0.277083</td>\n",
       "      <td>-0.250000</td>\n",
       "      <td>-0.189583</td>\n",
       "      <td>-0.641667</td>\n",
       "      <td>-0.250000</td>\n",
       "      <td>-0.197917</td>\n",
       "      <td>-0.427083</td>\n",
       "      <td>-0.750000</td>\n",
       "      <td>...</td>\n",
       "      <td>-0.191667</td>\n",
       "      <td>-0.133333</td>\n",
       "      <td>-0.177083</td>\n",
       "      <td>-0.681250</td>\n",
       "      <td>-0.529167</td>\n",
       "      <td>0.333333</td>\n",
       "      <td>5366244</td>\n",
       "      <td>CC(C)CCCC(C)CCCC(C)CCC/C(=C/CO)/C</td>\n",
       "      <td>CC(=CCO)CCCC(C)CCCC(C)CCCC(C)C</td>\n",
       "      <td>3</td>\n",
       "    </tr>\n",
       "    <tr>\n",
       "      <th>479</th>\n",
       "      <td>159</td>\n",
       "      <td>-0.500000</td>\n",
       "      <td>-0.108333</td>\n",
       "      <td>-0.500000</td>\n",
       "      <td>-0.435417</td>\n",
       "      <td>-0.466667</td>\n",
       "      <td>-0.500000</td>\n",
       "      <td>-0.766667</td>\n",
       "      <td>-0.393750</td>\n",
       "      <td>-0.250000</td>\n",
       "      <td>...</td>\n",
       "      <td>-0.458333</td>\n",
       "      <td>-0.370833</td>\n",
       "      <td>-0.612500</td>\n",
       "      <td>-0.252083</td>\n",
       "      <td>-0.252083</td>\n",
       "      <td>0.222222</td>\n",
       "      <td>6999977</td>\n",
       "      <td>CCCCOC(=O)[C@H](C)O</td>\n",
       "      <td>CCCCOC(=O)C(C)O</td>\n",
       "      <td>3</td>\n",
       "    </tr>\n",
       "  </tbody>\n",
       "</table>\n",
       "<p>480 rows × 21 columns</p>\n",
       "</div>"
      ]
     },
     "execution_count": 4,
     "metadata": {},
     "output_type": "execute_result"
    }
   ],
   "execution_count": 4
  },
  {
   "metadata": {
    "ExecuteTime": {
     "end_time": "2024-07-18T08:55:28.131845Z",
     "start_time": "2024-07-18T08:55:28.107704Z"
    }
   },
   "cell_type": "code",
   "source": [
    "# selected_columns = sagar_ds.loc[:, 'Fishy':'Spicy']\n",
    "# selected_columns"
   ],
   "id": "7f86706a6643477b",
   "outputs": [
    {
     "data": {
      "text/plain": [
       "        Fishy     Burnt      Sour   Decayed     Musky    Fruity    Sweaty  \\\n",
       "0   -1.000000 -1.000000 -0.829167 -0.958333 -0.364355 -0.609139 -0.483075   \n",
       "1   -0.971084 -1.000000 -0.908333 -0.479167  0.008333 -0.508333 -0.478701   \n",
       "2   -1.000000 -1.000000 -0.642413 -1.000000 -0.372387 -1.000000 -0.438162   \n",
       "3   -0.682525 -1.000000 -1.000000 -0.525000 -0.380498 -0.761828 -1.000000   \n",
       "4   -1.000000 -0.994764 -0.991667 -0.508333 -1.000000  0.908333  0.303483   \n",
       "..        ...       ...       ...       ...       ...       ...       ...   \n",
       "475 -0.500000 -0.391667 -0.462500 -0.250000 -0.500000 -0.316667 -0.250000   \n",
       "476 -1.000000 -0.741667 -0.950000 -1.000000 -1.000000 -1.000000 -0.983333   \n",
       "477 -1.000000 -0.381250 -0.945833 -0.500000 -0.831250 -0.950000 -1.000000   \n",
       "478 -0.250000 -0.189583 -0.641667 -0.250000 -0.197917 -0.427083 -0.750000   \n",
       "479 -0.500000 -0.435417 -0.466667 -0.500000 -0.766667 -0.393750 -0.250000   \n",
       "\n",
       "         Cool    Floral     Sweet      Warm    Bakery     Spicy  \n",
       "0   -0.618216 -0.422096 -0.558333 -0.222780 -0.662480 -0.797087  \n",
       "1   -0.604466 -0.576163  0.462500  0.562791  0.642857 -1.000000  \n",
       "2   -1.000000 -0.988669 -0.302147 -1.000000 -0.622368 -0.776247  \n",
       "3   -1.000000 -1.000000 -0.430966 -0.609302 -0.660859 -0.989691  \n",
       "4   -0.544554 -0.372412 -0.108333  0.339535  0.044643 -0.774490  \n",
       "..        ...       ...       ...       ...       ...       ...  \n",
       "475 -0.785417 -0.443750 -0.429167 -0.552083 -0.920833 -0.404167  \n",
       "476 -0.885417 -0.422917 -0.652083 -0.677083 -0.554167 -0.793750  \n",
       "477 -0.172917 -0.345833 -0.816667 -0.304167 -0.375000 -1.000000  \n",
       "478 -0.187500 -0.191667 -0.133333 -0.177083 -0.681250 -0.529167  \n",
       "479 -0.500000 -0.458333 -0.370833 -0.612500 -0.252083 -0.252083  \n",
       "\n",
       "[480 rows x 13 columns]"
      ],
      "text/html": [
       "<div>\n",
       "<style scoped>\n",
       "    .dataframe tbody tr th:only-of-type {\n",
       "        vertical-align: middle;\n",
       "    }\n",
       "\n",
       "    .dataframe tbody tr th {\n",
       "        vertical-align: top;\n",
       "    }\n",
       "\n",
       "    .dataframe thead th {\n",
       "        text-align: right;\n",
       "    }\n",
       "</style>\n",
       "<table border=\"1\" class=\"dataframe\">\n",
       "  <thead>\n",
       "    <tr style=\"text-align: right;\">\n",
       "      <th></th>\n",
       "      <th>Fishy</th>\n",
       "      <th>Burnt</th>\n",
       "      <th>Sour</th>\n",
       "      <th>Decayed</th>\n",
       "      <th>Musky</th>\n",
       "      <th>Fruity</th>\n",
       "      <th>Sweaty</th>\n",
       "      <th>Cool</th>\n",
       "      <th>Floral</th>\n",
       "      <th>Sweet</th>\n",
       "      <th>Warm</th>\n",
       "      <th>Bakery</th>\n",
       "      <th>Spicy</th>\n",
       "    </tr>\n",
       "  </thead>\n",
       "  <tbody>\n",
       "    <tr>\n",
       "      <th>0</th>\n",
       "      <td>-1.000000</td>\n",
       "      <td>-1.000000</td>\n",
       "      <td>-0.829167</td>\n",
       "      <td>-0.958333</td>\n",
       "      <td>-0.364355</td>\n",
       "      <td>-0.609139</td>\n",
       "      <td>-0.483075</td>\n",
       "      <td>-0.618216</td>\n",
       "      <td>-0.422096</td>\n",
       "      <td>-0.558333</td>\n",
       "      <td>-0.222780</td>\n",
       "      <td>-0.662480</td>\n",
       "      <td>-0.797087</td>\n",
       "    </tr>\n",
       "    <tr>\n",
       "      <th>1</th>\n",
       "      <td>-0.971084</td>\n",
       "      <td>-1.000000</td>\n",
       "      <td>-0.908333</td>\n",
       "      <td>-0.479167</td>\n",
       "      <td>0.008333</td>\n",
       "      <td>-0.508333</td>\n",
       "      <td>-0.478701</td>\n",
       "      <td>-0.604466</td>\n",
       "      <td>-0.576163</td>\n",
       "      <td>0.462500</td>\n",
       "      <td>0.562791</td>\n",
       "      <td>0.642857</td>\n",
       "      <td>-1.000000</td>\n",
       "    </tr>\n",
       "    <tr>\n",
       "      <th>2</th>\n",
       "      <td>-1.000000</td>\n",
       "      <td>-1.000000</td>\n",
       "      <td>-0.642413</td>\n",
       "      <td>-1.000000</td>\n",
       "      <td>-0.372387</td>\n",
       "      <td>-1.000000</td>\n",
       "      <td>-0.438162</td>\n",
       "      <td>-1.000000</td>\n",
       "      <td>-0.988669</td>\n",
       "      <td>-0.302147</td>\n",
       "      <td>-1.000000</td>\n",
       "      <td>-0.622368</td>\n",
       "      <td>-0.776247</td>\n",
       "    </tr>\n",
       "    <tr>\n",
       "      <th>3</th>\n",
       "      <td>-0.682525</td>\n",
       "      <td>-1.000000</td>\n",
       "      <td>-1.000000</td>\n",
       "      <td>-0.525000</td>\n",
       "      <td>-0.380498</td>\n",
       "      <td>-0.761828</td>\n",
       "      <td>-1.000000</td>\n",
       "      <td>-1.000000</td>\n",
       "      <td>-1.000000</td>\n",
       "      <td>-0.430966</td>\n",
       "      <td>-0.609302</td>\n",
       "      <td>-0.660859</td>\n",
       "      <td>-0.989691</td>\n",
       "    </tr>\n",
       "    <tr>\n",
       "      <th>4</th>\n",
       "      <td>-1.000000</td>\n",
       "      <td>-0.994764</td>\n",
       "      <td>-0.991667</td>\n",
       "      <td>-0.508333</td>\n",
       "      <td>-1.000000</td>\n",
       "      <td>0.908333</td>\n",
       "      <td>0.303483</td>\n",
       "      <td>-0.544554</td>\n",
       "      <td>-0.372412</td>\n",
       "      <td>-0.108333</td>\n",
       "      <td>0.339535</td>\n",
       "      <td>0.044643</td>\n",
       "      <td>-0.774490</td>\n",
       "    </tr>\n",
       "    <tr>\n",
       "      <th>...</th>\n",
       "      <td>...</td>\n",
       "      <td>...</td>\n",
       "      <td>...</td>\n",
       "      <td>...</td>\n",
       "      <td>...</td>\n",
       "      <td>...</td>\n",
       "      <td>...</td>\n",
       "      <td>...</td>\n",
       "      <td>...</td>\n",
       "      <td>...</td>\n",
       "      <td>...</td>\n",
       "      <td>...</td>\n",
       "      <td>...</td>\n",
       "    </tr>\n",
       "    <tr>\n",
       "      <th>475</th>\n",
       "      <td>-0.500000</td>\n",
       "      <td>-0.391667</td>\n",
       "      <td>-0.462500</td>\n",
       "      <td>-0.250000</td>\n",
       "      <td>-0.500000</td>\n",
       "      <td>-0.316667</td>\n",
       "      <td>-0.250000</td>\n",
       "      <td>-0.785417</td>\n",
       "      <td>-0.443750</td>\n",
       "      <td>-0.429167</td>\n",
       "      <td>-0.552083</td>\n",
       "      <td>-0.920833</td>\n",
       "      <td>-0.404167</td>\n",
       "    </tr>\n",
       "    <tr>\n",
       "      <th>476</th>\n",
       "      <td>-1.000000</td>\n",
       "      <td>-0.741667</td>\n",
       "      <td>-0.950000</td>\n",
       "      <td>-1.000000</td>\n",
       "      <td>-1.000000</td>\n",
       "      <td>-1.000000</td>\n",
       "      <td>-0.983333</td>\n",
       "      <td>-0.885417</td>\n",
       "      <td>-0.422917</td>\n",
       "      <td>-0.652083</td>\n",
       "      <td>-0.677083</td>\n",
       "      <td>-0.554167</td>\n",
       "      <td>-0.793750</td>\n",
       "    </tr>\n",
       "    <tr>\n",
       "      <th>477</th>\n",
       "      <td>-1.000000</td>\n",
       "      <td>-0.381250</td>\n",
       "      <td>-0.945833</td>\n",
       "      <td>-0.500000</td>\n",
       "      <td>-0.831250</td>\n",
       "      <td>-0.950000</td>\n",
       "      <td>-1.000000</td>\n",
       "      <td>-0.172917</td>\n",
       "      <td>-0.345833</td>\n",
       "      <td>-0.816667</td>\n",
       "      <td>-0.304167</td>\n",
       "      <td>-0.375000</td>\n",
       "      <td>-1.000000</td>\n",
       "    </tr>\n",
       "    <tr>\n",
       "      <th>478</th>\n",
       "      <td>-0.250000</td>\n",
       "      <td>-0.189583</td>\n",
       "      <td>-0.641667</td>\n",
       "      <td>-0.250000</td>\n",
       "      <td>-0.197917</td>\n",
       "      <td>-0.427083</td>\n",
       "      <td>-0.750000</td>\n",
       "      <td>-0.187500</td>\n",
       "      <td>-0.191667</td>\n",
       "      <td>-0.133333</td>\n",
       "      <td>-0.177083</td>\n",
       "      <td>-0.681250</td>\n",
       "      <td>-0.529167</td>\n",
       "    </tr>\n",
       "    <tr>\n",
       "      <th>479</th>\n",
       "      <td>-0.500000</td>\n",
       "      <td>-0.435417</td>\n",
       "      <td>-0.466667</td>\n",
       "      <td>-0.500000</td>\n",
       "      <td>-0.766667</td>\n",
       "      <td>-0.393750</td>\n",
       "      <td>-0.250000</td>\n",
       "      <td>-0.500000</td>\n",
       "      <td>-0.458333</td>\n",
       "      <td>-0.370833</td>\n",
       "      <td>-0.612500</td>\n",
       "      <td>-0.252083</td>\n",
       "      <td>-0.252083</td>\n",
       "    </tr>\n",
       "  </tbody>\n",
       "</table>\n",
       "<p>480 rows × 13 columns</p>\n",
       "</div>"
      ]
     },
     "execution_count": 13,
     "metadata": {},
     "output_type": "execute_result"
    }
   ],
   "execution_count": 13
  },
  {
   "metadata": {
    "ExecuteTime": {
     "end_time": "2024-07-18T09:06:25.892038Z",
     "start_time": "2024-07-18T09:06:25.654782Z"
    }
   },
   "cell_type": "code",
   "source": [
    "Ethyl_propionate =sagar_ds[sagar_ds['cid']== 7749]\n",
    "Ethyl_butanoate=sagar_ds[sagar_ds['cid']== 7762]\n",
    "# Ethyl_propionate = Ethyl_propionate.loc[:, 'Fishy':'Spicy']\n",
    "# Ethyl_propionate = Ethyl_propionate.to_numpy()"
   ],
   "id": "d0d2c7e3a4e0b6b8",
   "outputs": [],
   "execution_count": 16
  },
  {
   "metadata": {
    "ExecuteTime": {
     "end_time": "2024-07-18T09:09:21.376830Z",
     "start_time": "2024-07-18T09:09:21.369635Z"
    }
   },
   "cell_type": "code",
   "source": [
    "for subject in [1,2,3]:\n",
    "    Ethyl_propionate_s = Ethyl_propionate[Ethyl_propionate['subject']==subject]\n",
    "    Ethyl_propionate_s = Ethyl_propionate_s.loc[:, 'Fishy':'Spicy']\n",
    "    Ethyl_propionate_s = Ethyl_propionate_s.to_numpy()\n",
    "    \n",
    "    \n",
    "    Ethyl_butanoate_s = Ethyl_butanoate[Ethyl_butanoate['subject']==subject]\n",
    "    Ethyl_butanoate_s = Ethyl_butanoate_s.loc[:, 'Fishy':'Spicy']\n",
    "    Ethyl_butanoate_s = Ethyl_butanoate_s.to_numpy()\n",
    "    \n",
    "    _, index =find_coarse_similarity(Ethyl_propionate_s, Ethyl_butanoate_s)\n",
    "    print(index)\n",
    "    \n",
    "    \n",
    "    "
   ],
   "id": "126b74b27ddb1f50",
   "outputs": [
    {
     "name": "stdout",
     "output_type": "stream",
     "text": [
      "[5]\n",
      "[1]\n",
      "[1]\n"
     ]
    }
   ],
   "execution_count": 18
  },
  {
   "metadata": {
    "ExecuteTime": {
     "end_time": "2024-07-18T09:59:59.791228Z",
     "start_time": "2024-07-18T09:59:59.784261Z"
    }
   },
   "cell_type": "code",
   "source": [
    "# average over all rows of a dataframe pandas\n",
    "Ethyl_propionate_selected = Ethyl_propionate.loc[:, 'Fishy':'Spicy']\n",
    "Ethyl_propionate_avg  = Ethyl_propionate_selected.mean(axis=0)\n",
    "\n",
    "Ethyl_butanoate_selected = Ethyl_butanoate.loc[:, 'Fishy':'Spicy']\n",
    "Ethyl_butanoate_avg  = Ethyl_butanoate_selected.mean(axis=0)"
   ],
   "id": "7995c8d4bf62936b",
   "outputs": [],
   "execution_count": 29
  },
  {
   "metadata": {
    "ExecuteTime": {
     "end_time": "2024-07-18T10:53:29.236283Z",
     "start_time": "2024-07-18T10:53:29.233347Z"
    }
   },
   "cell_type": "code",
   "source": "Ethyl =sagar_ds[(sagar_ds['cid']== 7749) | (sagar_ds['cid']== 7762)]",
   "id": "4e785f2abd4bcd7b",
   "outputs": [],
   "execution_count": 6
  },
  {
   "metadata": {
    "ExecuteTime": {
     "end_time": "2024-07-18T10:57:36.407448Z",
     "start_time": "2024-07-18T10:57:36.402823Z"
    }
   },
   "cell_type": "code",
   "source": "Ethyl = Ethyl.groupby('cid').mean(numeric_only=True).reset_index()",
   "id": "ad1239d16c464fa3",
   "outputs": [],
   "execution_count": 11
  },
  {
   "metadata": {
    "ExecuteTime": {
     "end_time": "2024-07-18T10:57:59.064102Z",
     "start_time": "2024-07-18T10:57:59.058959Z"
    }
   },
   "cell_type": "code",
   "source": [
    "Ethyl_butanoate =  Ethyl[Ethyl['cid']== 7762]\n",
    "Ethyl_butanoate = Ethyl_butanoate.loc[:, 'Fishy':'Spicy'].to_numpy()\n",
    "\n",
    "Ethyl_propionate =  Ethyl[Ethyl['cid']== 7749]\n",
    "Ethyl_propionate = Ethyl_propionate.loc[:, 'Fishy':'Spicy'].to_numpy()\n",
    "\n",
    "\n",
    "_, index =find_coarse_similarity(Ethyl_butanoate, Ethyl_propionate)\n",
    "print(index)"
   ],
   "id": "ce32d3fa5d71f7f7",
   "outputs": [
    {
     "name": "stdout",
     "output_type": "stream",
     "text": [
      "[12]\n"
     ]
    }
   ],
   "execution_count": 13
  },
  {
   "metadata": {
    "ExecuteTime": {
     "end_time": "2024-07-18T10:59:51.962099Z",
     "start_time": "2024-07-18T10:59:51.958867Z"
    }
   },
   "cell_type": "code",
   "source": "Ethyl_butanoate",
   "id": "b63b5b6a2533c576",
   "outputs": [
    {
     "data": {
      "text/plain": [
       "array([[-0.72314815, -0.83769634, -0.32106481, -0.3212963 , -0.55208333,\n",
       "         0.49861111, -0.71443823, -0.76412037, -0.44643663, -0.14236111,\n",
       "        -0.56296296, -0.72546296, -0.93888889]])"
      ]
     },
     "execution_count": 14,
     "metadata": {},
     "output_type": "execute_result"
    }
   ],
   "execution_count": 14
  },
  {
   "metadata": {
    "ExecuteTime": {
     "end_time": "2024-07-18T08:47:28.584702Z",
     "start_time": "2024-07-18T08:46:47.085218Z"
    }
   },
   "cell_type": "code",
   "source": [
    "\n",
    "Ethyl_butanoate = Ethyl_butanoate.loc[:, 'Fishy':'Spicy']\n",
    "Ethyl_butanoate = Ethyl_butanoate.to_numpy()"
   ],
   "id": "524cfef35b64c2fe",
   "outputs": [],
   "execution_count": 12
  },
  {
   "metadata": {
    "ExecuteTime": {
     "end_time": "2024-07-18T09:03:58.053804Z",
     "start_time": "2024-07-18T09:03:58.049553Z"
    }
   },
   "cell_type": "code",
   "source": "",
   "id": "c37f0c7a833af936",
   "outputs": [
    {
     "data": {
      "text/plain": [
       "array([[-0.2       , -0.51308901,  0.25833333,  0.3       ,  0.09166667,\n",
       "         1.        , -0.25373134, -1.        , -0.80736544, -0.64166667,\n",
       "        -1.        , -1.        , -1.        ],\n",
       "       [-0.99444444, -1.        , -0.85277778, -0.99722222, -1.        ,\n",
       "         0.74166667, -1.        , -0.70277778, -0.01944444,  0.53333333,\n",
       "         0.15277778, -0.42222222, -1.        ],\n",
       "       [-0.975     , -1.        , -0.36875   , -0.26666667, -0.74791667,\n",
       "        -0.24583333, -0.88958333, -0.58958333, -0.5125    , -0.31875   ,\n",
       "        -0.84166667, -0.75416667, -0.81666667]])"
      ]
     },
     "execution_count": 14,
     "metadata": {},
     "output_type": "execute_result"
    }
   ],
   "execution_count": 14
  },
  {
   "metadata": {
    "ExecuteTime": {
     "end_time": "2024-07-18T08:38:16.360088Z",
     "start_time": "2024-07-18T08:38:16.346305Z"
    }
   },
   "cell_type": "code",
   "source": [
    "selected_columns = sagar_ds.loc[:, 'Fishy':'Spicy']\n",
    "matrix = selected_columns.to_numpy()\n"
   ],
   "id": "a5974b0f3b858262",
   "outputs": [
    {
     "data": {
      "text/plain": [
       "(array([1.        , 1.        , 1.        , 1.        , 1.        ,\n",
       "        1.        , 1.        , 1.        , 1.        , 1.        ,\n",
       "        1.        , 1.        , 1.        , 1.        , 1.        ,\n",
       "        1.        , 1.        , 1.        , 1.        , 1.        ,\n",
       "        1.        , 1.        , 1.        , 1.        , 1.        ,\n",
       "        1.        , 1.        , 1.        , 1.        , 1.        ,\n",
       "        1.        , 1.        , 1.        , 0.70840278, 1.        ,\n",
       "        1.        , 1.        , 1.        , 1.        , 1.        ,\n",
       "        1.        , 1.        , 1.        , 1.        , 1.        ,\n",
       "        1.        , 1.        , 1.        , 1.        , 1.        ,\n",
       "        1.        , 1.        , 1.        , 1.        , 0.855625  ,\n",
       "        1.        , 1.        , 1.        , 1.        , 1.        ,\n",
       "        1.        , 1.        , 1.        , 1.        , 1.        ,\n",
       "        1.        , 1.        , 1.        , 1.        , 1.        ,\n",
       "        1.        , 1.        , 1.        , 1.        , 1.        ,\n",
       "        1.        , 1.        , 1.        , 1.        , 1.        ,\n",
       "        1.        , 0.86087788, 1.        , 1.        , 1.        ,\n",
       "        1.        , 1.        , 1.        , 1.        , 1.        ,\n",
       "        1.        , 1.        , 1.        , 1.        , 0.98019851,\n",
       "        1.        , 1.        , 1.        , 1.        , 1.        ,\n",
       "        1.        , 1.        , 1.        , 1.        , 1.        ,\n",
       "        1.        , 1.        , 1.        , 1.        , 1.        ,\n",
       "        1.        , 1.        , 1.        , 1.        , 1.        ,\n",
       "        1.        , 1.        , 1.        , 1.        , 1.        ,\n",
       "        1.        , 1.        , 0.6084413 , 1.        , 1.        ,\n",
       "        1.        , 1.        , 1.        , 1.        , 1.        ,\n",
       "        1.        , 1.        , 1.        , 1.        , 1.        ,\n",
       "        1.        , 1.        , 1.        , 1.        , 1.        ,\n",
       "        0.94251736, 1.        , 1.        , 1.        , 1.        ,\n",
       "        1.        , 1.        , 1.        , 1.        , 1.        ,\n",
       "        1.        , 1.        , 1.        , 1.        , 1.        ,\n",
       "        1.        , 1.        , 0.76624481, 1.        , 1.        ,\n",
       "        0.95604938, 1.        , 1.        , 1.        , 1.        ,\n",
       "        1.        , 1.        , 1.        , 1.        , 1.        ,\n",
       "        1.        , 0.44444444, 1.        , 1.        , 1.        ,\n",
       "        1.        , 1.        , 1.        , 1.        , 1.        ,\n",
       "        1.        , 1.        , 0.11111111, 1.        , 1.        ,\n",
       "        1.        , 1.        , 1.        , 1.        , 1.        ,\n",
       "        1.        , 1.        , 1.        , 1.        , 1.        ,\n",
       "        1.        , 1.        , 1.        , 1.        , 1.        ,\n",
       "        1.        , 1.        , 1.        , 1.        , 1.        ,\n",
       "        1.        , 1.        , 1.        , 1.        , 1.        ,\n",
       "        1.        , 1.        , 1.        , 1.        , 1.        ,\n",
       "        1.        , 1.        , 1.        , 0.44444444, 1.        ,\n",
       "        1.        , 1.        , 1.        , 1.        , 1.        ,\n",
       "        1.        , 1.        , 1.        , 0.44444444, 1.        ,\n",
       "        1.        , 1.        , 1.        , 1.        , 1.        ,\n",
       "        1.        , 1.        , 1.        , 1.        , 0.69908179,\n",
       "        1.        , 1.        , 1.        , 1.        , 1.        ,\n",
       "        1.        , 1.        , 1.        , 1.        , 1.        ,\n",
       "        1.        , 1.        , 1.        , 1.        , 1.        ,\n",
       "        1.        , 0.44444444, 1.        , 1.        , 1.        ,\n",
       "        0.91308642, 1.        , 0.71308642, 1.        , 1.        ,\n",
       "        1.        , 1.        , 1.        , 1.        , 1.        ,\n",
       "        1.        , 1.        , 1.        , 1.        , 1.        ,\n",
       "        1.        , 1.        , 1.        , 1.        , 1.        ,\n",
       "        1.        , 1.        , 1.        , 1.        , 1.        ,\n",
       "        1.        , 1.        , 1.        , 1.        , 1.        ,\n",
       "        1.        , 1.        , 0.81      , 1.        , 1.        ,\n",
       "        0.11111111, 1.        , 1.        , 1.        , 1.        ,\n",
       "        0.44444444, 1.        , 1.        , 0.44444444, 1.        ,\n",
       "        0.44444444, 0.69908179, 1.        , 1.        , 1.        ,\n",
       "        0.85049383, 1.        , 1.        , 1.        , 1.        ,\n",
       "        1.        , 1.        , 1.        , 1.        , 1.        ,\n",
       "        1.        , 1.        , 1.        , 0.9025    , 0.92240017,\n",
       "        1.        , 0.82506944, 1.        , 0.57191406, 1.        ,\n",
       "        1.        , 0.78396267, 1.        , 1.        , 1.        ,\n",
       "        0.50765625, 1.        , 1.        , 0.78765625, 1.        ,\n",
       "        1.        , 1.        , 0.78396267, 1.        , 1.        ,\n",
       "        1.        , 1.        , 1.        , 0.98340278, 1.        ,\n",
       "        1.        , 1.        , 1.        , 1.        , 0.98340278,\n",
       "        0.97515625, 1.        , 1.        , 1.        , 0.0625    ,\n",
       "        0.25      , 0.91840278, 1.        , 0.89854601, 1.        ,\n",
       "        0.92240017, 1.        , 1.        , 1.        , 1.        ,\n",
       "        1.        , 1.        , 1.        , 1.        , 1.        ,\n",
       "        1.        , 0.82128906, 1.        , 1.        , 0.81751736,\n",
       "        1.        , 1.        , 1.        , 0.65677517, 1.        ,\n",
       "        1.        , 0.87111111, 0.55626736, 1.        , 0.25      ,\n",
       "        1.        , 0.5625    , 0.98340278, 1.        , 0.67035156,\n",
       "        1.        , 1.        , 0.25      , 1.        , 0.96694444,\n",
       "        0.94251736, 1.        , 1.        , 1.        , 1.        ,\n",
       "        0.5625    , 1.        , 0.0625    , 1.        , 1.        ,\n",
       "        0.0625    , 1.        , 0.55006944, 0.89066406, 1.        ,\n",
       "        1.        , 0.38543403, 0.5625    , 0.69444444, 1.        ,\n",
       "        1.        , 1.        , 0.94251736, 1.        , 1.        ,\n",
       "        1.        , 0.95876736, 1.        , 1.        , 1.        ,\n",
       "        1.        , 0.97515625, 1.        , 1.        , 1.        ,\n",
       "        0.25      , 0.94251736, 1.        , 0.98340278, 1.        ,\n",
       "        0.950625  , 1.        , 1.        , 0.57191406, 1.        ,\n",
       "        1.        , 1.        , 1.        , 1.        , 1.        ,\n",
       "        1.        , 1.        , 0.25      , 0.88281684, 1.        ,\n",
       "        0.32585069, 1.        , 1.        , 1.        , 1.        ,\n",
       "        1.        , 1.        , 1.        , 1.        , 1.        ,\n",
       "        0.5625    , 1.        , 1.        , 1.        , 0.75472656,\n",
       "        1.        , 1.        , 1.        , 0.5625    , 0.25      ,\n",
       "        0.84793403, 1.        , 1.        , 0.5625    , 0.58777778]),\n",
       " array([ 0,  1,  0,  1,  0,  1,  5, 10,  5,  3,  3,  0,  5,  0,  1,  5,  0,\n",
       "         7,  1,  0,  3,  0,  3,  3,  0,  2,  3,  2,  3,  1,  1,  1,  1,  3,\n",
       "         3,  0,  1,  5,  4,  0,  3,  0,  4,  0,  5,  5,  0,  3,  7,  7,  5,\n",
       "         0,  1,  1,  3,  6,  5, 12,  5,  1,  0,  0,  2,  0,  1,  5,  5,  0,\n",
       "         0,  0,  4,  1,  2,  1,  1,  0,  0,  5,  0,  0,  0, 12,  2,  2,  2,\n",
       "         5,  0,  2,  0,  8,  0,  1,  0,  2,  6,  5,  7, 12,  0,  1,  1,  3,\n",
       "         1,  7, 12,  2,  1,  1,  9,  2,  1,  0,  2,  0,  0,  8, 11,  9,  5,\n",
       "         2,  7,  7, 12,  1, 12,  3,  1,  1,  2,  0,  0,  3,  6,  0,  2,  0,\n",
       "         5,  7,  5,  2,  2,  2,  0,  0,  0,  1,  0,  0,  0,  0,  0,  1,  1,\n",
       "         1,  1, 12,  2,  8,  5,  0,  1,  5,  2,  2,  2,  0,  6,  5,  3,  5,\n",
       "         1,  1,  6,  5,  2, 11,  2,  1,  1,  1,  2,  5,  0,  0,  1,  0,  1,\n",
       "         1, 11,  2,  6,  9,  2,  0,  1,  1, 11,  1,  1,  7,  1,  1,  1,  1,\n",
       "         0,  0,  1,  6,  2, 11,  0,  2,  6,  3, 11,  5,  2,  3,  0,  5,  1,\n",
       "         1, 11,  0,  2,  0,  0,  1,  5,  1,  1,  1, 11,  3,  2,  1,  0,  5,\n",
       "         1,  0,  2,  0,  1,  0,  2,  1,  1,  1,  5,  0,  3,  0,  2,  5,  1,\n",
       "         0,  9,  0,  0,  0,  1,  5,  1,  1,  5,  2,  2,  0,  1,  2,  5,  1,\n",
       "         5,  2,  9,  1,  2,  1,  2,  0,  2,  0,  0,  2,  0,  0,  0,  0, 11,\n",
       "         5,  0,  5, 11,  5,  2,  0,  0, 11,  5,  1,  1,  0,  2,  1,  1,  5,\n",
       "         1,  0,  1,  1,  5,  0,  2,  1, 11,  1,  1,  5,  1, 12,  0, 12,  0,\n",
       "         3,  7,  3,  6,  8, 12,  3,  0,  5,  6,  1,  5, 12,  0,  3,  1,  0,\n",
       "         0,  0, 12,  0,  1, 11,  5,  1,  3,  0,  3,  7,  0,  0,  6,  6,  0,\n",
       "         0,  0,  4,  2,  0,  0,  6, 10,  2,  1,  0,  0,  0,  1,  4,  3,  4,\n",
       "         0,  5, 12,  0,  0,  4,  2,  2,  0,  9,  2,  0, 10,  3,  1,  3,  1,\n",
       "         0,  0,  0,  2,  5,  0,  0,  0,  1,  3,  0,  0,  0,  5,  3,  0,  0,\n",
       "         6,  0,  0,  0,  6, 11,  3,  0, 12, 11,  4,  0,  3,  6, 12,  3,  5,\n",
       "         5,  5, 11,  0, 11,  1,  6,  0,  6,  5,  0,  6,  6,  3,  0, 11,  4,\n",
       "         0,  1,  0,  3,  6,  5,  0,  0,  1,  0,  7,  2,  0,  2,  3,  6,  6,\n",
       "         1,  0,  3,  5, 11,  0,  4,  1,  1,  0,  2,  0,  0,  0,  1,  0, 11,\n",
       "         0,  0,  6,  4]))"
      ]
     },
     "execution_count": 8,
     "metadata": {},
     "output_type": "execute_result"
    }
   ],
   "execution_count": 8
  },
  {
   "metadata": {},
   "cell_type": "code",
   "outputs": [],
   "execution_count": null,
   "source": "find_coarse_similarity(matrix, matrix)",
   "id": "bc4a4b43fb3402c1"
  },
  {
   "metadata": {
    "ExecuteTime": {
     "end_time": "2024-07-18T08:39:06.199865Z",
     "start_time": "2024-07-18T08:39:05.833295Z"
    }
   },
   "cell_type": "code",
   "source": "find_finegrained_similarity(matrix,matrix)",
   "id": "503e641454a08cad",
   "outputs": [
    {
     "data": {
      "text/plain": [
       "array([[1.        , 1.        , 0.68751736, ..., 0.04963113, 0.43888012,\n",
       "        0.63534808],\n",
       "       [0.94300479, 1.        , 0.82506944, ..., 0.31673337, 0.41326531,\n",
       "        1.        ],\n",
       "       [1.        , 1.        , 0.41269494, ..., 1.        , 0.38734178,\n",
       "        0.60255946],\n",
       "       ...,\n",
       "       [1.        , 0.14535156, 0.89460069, ..., 0.09251736, 0.140625  ,\n",
       "        1.        ],\n",
       "       [0.0625    , 0.03594184, 0.41173611, ..., 0.03135851, 0.46410156,\n",
       "        0.28001736],\n",
       "       [0.25      , 0.18958767, 0.21777778, ..., 0.37515625, 0.06354601,\n",
       "        0.06354601]])"
      ]
     },
     "execution_count": 9,
     "metadata": {},
     "output_type": "execute_result"
    }
   ],
   "execution_count": 9
  },
  {
   "metadata": {
    "jupyter": {
     "is_executing": true
    }
   },
   "cell_type": "code",
   "source": "# Categorization of the data based on fine-grained and coarse-level labels",
   "id": "d87ab87b7b00c920",
   "outputs": [],
   "execution_count": null
  },
  {
   "metadata": {},
   "cell_type": "code",
   "outputs": [],
   "execution_count": null,
   "source": "",
   "id": "5129b08712b5378b"
  },
  {
   "metadata": {},
   "cell_type": "code",
   "outputs": [],
   "execution_count": null,
   "source": "",
   "id": "eac04b8983898872"
  },
  {
   "metadata": {},
   "cell_type": "code",
   "outputs": [],
   "execution_count": null,
   "source": "",
   "id": "9ce8af147b138411"
  },
  {
   "metadata": {
    "ExecuteTime": {
     "end_time": "2024-06-11T14:52:51.659155Z",
     "start_time": "2024-06-11T14:52:51.656796Z"
    }
   },
   "cell_type": "code",
   "source": "base_dir = '/local_storage/datasets/farzaneh/alignment_olfaction_datasets/'",
   "id": "415eb2db99fed7ba",
   "execution_count": 24,
   "outputs": []
  },
  {
   "cell_type": "code",
   "id": "e82f3bbb-ff78-4729-8101-d8f10de7e211",
   "metadata": {
    "ExecuteTime": {
     "end_time": "2024-06-11T14:52:53.408920Z",
     "start_time": "2024-06-11T14:52:52.091839Z"
    }
   },
   "source": [
    "parent_input_sagar_original = base_dir+'NEMO_scripts-master/Data/supporting_files/NEMO_s01/Fullmet_FIR.mat'\n",
    "data_original = sio.loadmat(parent_input_sagar_original)"
   ],
   "execution_count": 25,
   "outputs": []
  },
  {
   "cell_type": "code",
   "id": "750fd2cc-c4d1-4573-8d83-41820fdbcda8",
   "metadata": {
    "ExecuteTime": {
     "end_time": "2024-06-11T14:52:53.564459Z",
     "start_time": "2024-06-11T14:52:53.410744Z"
    }
   },
   "source": [
    "parent_input_sagar_original = base_dir+'NEMO_scripts-master/Data/odor_responses_S1-3_regionized/odor_responses_S1.mat'\n",
    "data1 = sio.loadmat(parent_input_sagar_original)\n",
    "parent_input_sagar_original = base_dir+'NEMO_scripts-master/Data/odor_responses_S1-3_regionized/odor_responses_S2.mat'\n",
    "data2 = sio.loadmat(parent_input_sagar_original)\n",
    "parent_input_sagar_original = base_dir+'NEMO_scripts-master/Data/odor_responses_S1-3_regionized/odor_responses_S3.mat'\n",
    "data3 = sio.loadmat(parent_input_sagar_original)"
   ],
   "execution_count": 26,
   "outputs": []
  },
  {
   "cell_type": "code",
   "id": "9133fbf4-9c9e-419e-a4b4-025f71b6ae06",
   "metadata": {
    "ExecuteTime": {
     "end_time": "2024-06-11T14:33:14.758043Z",
     "start_time": "2024-06-11T14:33:14.751894Z"
    }
   },
   "source": [
    "rois_all=  []\n",
    "for data_s in [data1,data2,data3]:\n",
    "    rois = {}\n",
    "    rois['PirF']= data_s['odor_vals'][0][0]\n",
    "    rois['PirT']= data_s['odor_vals'][0][1]\n",
    "    rois['AMY']= data_s['odor_vals'][0][2]\n",
    "    rois['OFC']= data_s['odor_vals'][0][3]\n",
    "    rois_all.append(rois)\n"
   ],
   "execution_count": 8,
   "outputs": []
  },
  {
   "cell_type": "code",
   "id": "92a43f47-225e-4959-9b27-88c0f3c37859",
   "metadata": {
    "ExecuteTime": {
     "end_time": "2024-06-11T14:33:15.764887Z",
     "start_time": "2024-06-11T14:33:15.761816Z"
    }
   },
   "source": [
    "for rois in rois_all:\n",
    "    for key in rois.keys():\n",
    "        roi=rois[key]\n",
    "        roi = np.moveaxis(roi,-1,0)\n",
    "        # roi = np.mean(roi,-1)\n",
    "        rois[key]=roi"
   ],
   "execution_count": 9,
   "outputs": []
  },
  {
   "cell_type": "code",
   "execution_count": 13,
   "id": "9e3949aa-d17e-4816-ba96-28d92397140e",
   "metadata": {},
   "source": [
    "def prepare_dataset(ds):\n",
    "    # ds['y'] = ds['y'].apply(ast.literal_eval)\n",
    "    ds['embeddings'] = ds['embeddings'].apply(ast.literal_eval)\n",
    "    return ds"
   ],
   "outputs": []
  },
  {
   "cell_type": "code",
   "execution_count": 14,
   "id": "1f5c4448-dd41-48d8-ab5b-d7ecaf373f36",
   "metadata": {},
   "source": [
    "def custom_linear_regression(X,y):\n",
    "    clf = RidgeCV(alphas=[1e-3, 1e-2, 1e-1, 1])    \n",
    "    estimator= clf.fit(X,y)\n",
    "    return estimator"
   ],
   "outputs": []
  },
  {
   "cell_type": "code",
   "execution_count": 18,
   "id": "d1c6d46c-dfd8-4884-a225-59f0586e5f37",
   "metadata": {},
   "source": [
    "parent_input_sagar = base_dir+'curated_datasets/mols_datasets/curated_sagar_subjects_nonaminus.csv'\n",
    "sagar_mols = pd.read_csv(parent_input_sagar)\n"
   ],
   "outputs": []
  },
  {
   "cell_type": "code",
   "id": "8e3b1c05-bca6-4653-b9d8-916dbfe90c7f",
   "metadata": {
    "ExecuteTime": {
     "end_time": "2024-06-11T15:07:47.581623Z",
     "start_time": "2024-06-11T15:07:47.574194Z"
    }
   },
   "source": [
    "def explainable_variance(data, bias_correction=True, do_zscore=True):\n",
    "    \"\"\"Compute explainable variance for a set of voxels.\n",
    "\n",
    "    Parameters\n",
    "    ----------\n",
    "    data : array of shape (n_repeats, n_times, n_voxels)\n",
    "        fMRI responses of the repeated test set.\n",
    "    bias_correction: bool\n",
    "        Perform bias correction based on the number of repetitions.\n",
    "    do_zscore: bool\n",
    "        z-score the data in time. Only set to False if your data time courses\n",
    "        are already z-scored.\n",
    "\n",
    "    Returns\n",
    "    -------\n",
    "    ev : array of shape (n_voxels, )\n",
    "        Explainable variance per voxel.\n",
    "    \"\"\"\n",
    "    if do_zscore:\n",
    "        data = scipy.stats.zscore(data, axis=1)\n",
    "\n",
    "    mean_var = data.var(axis=1, dtype=np.float64, ddof=1).mean(axis=0)\n",
    "    var_mean = data.mean(axis=0).var(axis=0, dtype=np.float64, ddof=1)\n",
    "    ev = var_mean / mean_var\n",
    "\n",
    "    if bias_correction:\n",
    "        n_repeats = data.shape[0]\n",
    "        ev = ev - (1 - ev) / (n_repeats - 1)\n",
    "    return ev\n"
   ],
   "execution_count": 39,
   "outputs": []
  },
  {
   "cell_type": "code",
   "id": "fe7594d3-bcc6-4d17-9ca9-74e7f7e729a5",
   "metadata": {
    "ExecuteTime": {
     "end_time": "2024-06-11T14:54:21.383602Z",
     "start_time": "2024-06-11T14:54:21.378439Z"
    }
   },
   "source": [
    "# sagar_mols1 = sagar_mols.loc[sagar_mols['subject']==1].sort_values('cid')\n",
    "# sagar_mols2 = sagar_mols.loc[sagar_mols['subject']==2].sort_values('cid')\n",
    "# sagar_mols3 = sagar_mols.loc[sagar_mols['subject']==3].sort_values('cid')\n",
    "\n",
    "sagar_mols1 = sagar_mols.loc[sagar_mols['subject']==1]\n",
    "sagar_mols2 = sagar_mols.loc[sagar_mols['subject']==2]\n",
    "sagar_mols3 = sagar_mols.loc[sagar_mols['subject']==3]"
   ],
   "execution_count": 27,
   "outputs": []
  },
  {
   "metadata": {},
   "cell_type": "code",
   "source": [
    "fmri_data_y=rois_all[:]['PirF']\n",
    "# fmri_data_y = np.expand_dims(fmri_data_y.mean(-1),0)\n",
    "print(\"(n_repeats, n_samples_test, n_voxels) =\", fmri_data_y.shape)\n",
    "ev = explainable_variance(fmri_data_y)\n",
    "print(\"(n_voxels,) =\", ev.shape)"
   ],
   "id": "efc82774e36163d7",
   "execution_count": null,
   "outputs": []
  },
  {
   "metadata": {},
   "cell_type": "markdown",
   "source": "# plotting the explainable variance",
   "id": "b6d1123c6291e3"
  },
  {
   "metadata": {},
   "cell_type": "code",
   "outputs": [],
   "execution_count": null,
   "source": [
    "voxel_1 = np.argmax(ev)\n",
    "time = np.arange(Y_test.shape[1]) * 2  # one time point every 2 seconds\n",
    "plt.figure(figsize=(10, 3))\n",
    "plt.plot(time, Y_test[:, :, voxel_1].T, color='C0', alpha=0.5)\n",
    "plt.plot(time, Y_test[:, :, voxel_1].mean(0), color='C1', label='average')\n",
    "plt.xlabel(\"Time (sec)\")\n",
    "plt.title(\"Voxel with large explainable variance (%.2f)\" % ev[voxel_1])\n",
    "plt.yticks([])\n",
    "plt.legend()\n",
    "plt.tight_layout()\n",
    "plt.show()"
   ],
   "id": "734f097583ccd692"
  },
  {
   "metadata": {},
   "cell_type": "code",
   "outputs": [],
   "execution_count": null,
   "source": [
    "voxel_2 = np.argmin(ev)\n",
    "plt.figure(figsize=(10, 3))\n",
    "plt.plot(time, Y_test[:, :, voxel_2].T, color='C0', alpha=0.5)\n",
    "plt.plot(time, Y_test[:, :, voxel_2].mean(0), color='C1', label='average')\n",
    "plt.xlabel(\"Time (sec)\")\n",
    "plt.title(\"Voxel with low explainable variance (%.2f)\" % ev[voxel_2])\n",
    "plt.yticks([])\n",
    "plt.legend()\n",
    "plt.tight_layout()\n",
    "plt.show()"
   ],
   "id": "dae294202040e161"
  },
  {
   "metadata": {},
   "cell_type": "code",
   "outputs": [],
   "execution_count": null,
   "source": [
    "plt.hist(ev, bins=np.linspace(0, 1, 100), log=True, histtype='step')\n",
    "plt.xlabel(\"Explainable variance\")\n",
    "plt.ylabel(\"Number of voxels\")\n",
    "plt.title('Histogram of explainable variance')\n",
    "plt.grid('on')\n",
    "plt.show()"
   ],
   "id": "7aa0cf03339be084"
  },
  {
   "metadata": {},
   "cell_type": "markdown",
   "source": "",
   "id": "40395fe4687e505f"
  }
 ],
 "metadata": {
  "kernelspec": {
   "display_name": "Python 3 (ipykernel)",
   "language": "python",
   "name": "python3"
  },
  "language_info": {
   "codemirror_mode": {
    "name": "ipython",
    "version": 3
   },
   "file_extension": ".py",
   "mimetype": "text/x-python",
   "name": "python",
   "nbconvert_exporter": "python",
   "pygments_lexer": "ipython3",
   "version": "3.8.18"
  }
 },
 "nbformat": 4,
 "nbformat_minor": 5
}
