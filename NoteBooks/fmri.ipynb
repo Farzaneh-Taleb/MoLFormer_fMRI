{
 "cells": [
  {
   "metadata": {
    "ExecuteTime": {
     "end_time": "2024-08-25T11:22:14.841194Z",
     "start_time": "2024-08-25T11:22:14.834386Z"
    }
   },
   "cell_type": "code",
   "source": [
    "import os\n",
    "import sys\n",
    "parent_dir = \"/Volumes/work/phd/MoLFormer_N2024\"\n",
    "sys.path.append(parent_dir)\n",
    "parent_dir=\"/Midgard/home/farzantn/mambaforge/envs/MolTran_CUDA11_cuda/lib/python3.8\"\n",
    "sys.path.append(parent_dir)"
   ],
   "id": "c5da6586d1206d40",
   "execution_count": 2,
   "outputs": []
  },
  {
   "cell_type": "code",
   "id": "a8524742-4851-4c08-9e2b-542465d42aa2",
   "metadata": {
    "ExecuteTime": {
     "end_time": "2024-08-25T11:22:16.980160Z",
     "start_time": "2024-08-25T11:22:15.275093Z"
    }
   },
   "source": [
    "from mat4py import loadmat\n",
    "import scipy.io as sio\n",
    "import numpy as np\n",
    "parent_dir=\"/Midgard/home/farzantn/mambaforge/envs/MolTran_CUDA11_cuda/lib/python3.8\"\n",
    "sys.path.append(parent_dir)\n",
    "import numpy as np\n",
    "path='/local_storage/datasets/farzaneh/Olfaction/fmri_test/'\n",
    "from utils.ridge_tools import *\n",
    "import pandas as pd\n",
    "import ast\n",
    "base_directory = ''\n",
    "from sklearn.model_selection import cross_validate,train_test_split\n",
    "from sklearn.preprocessing import StandardScaler\n",
    "from sklearn.decomposition import PCA\n",
    "from sklearn.metrics import roc_auc_score, mean_squared_error\n",
    "import scipy"
   ],
   "execution_count": 3,
   "outputs": []
  },
  {
   "metadata": {
    "ExecuteTime": {
     "end_time": "2024-08-25T11:22:38.981512Z",
     "start_time": "2024-08-25T11:22:38.969134Z"
    }
   },
   "cell_type": "code",
   "source": [
    "base_dir = '/local_storage/datasets/farzaneh/alignment_olfaction_datasets/'\n",
    "base_dir = base_dir= '../../../../T5 EVO/fmri/csvs'"
   ],
   "id": "415eb2db99fed7ba",
   "execution_count": 4,
   "outputs": []
  },
  {
   "cell_type": "code",
   "id": "e82f3bbb-ff78-4729-8101-d8f10de7e211",
   "metadata": {
    "ExecuteTime": {
     "end_time": "2024-06-11T14:52:53.408920Z",
     "start_time": "2024-06-11T14:52:52.091839Z"
    }
   },
   "source": [
    "parent_input_sagar_original = base_dir+'NEMO_scripts-master/Data/supporting_files/NEMO_s01/Fullmet_FIR.mat'\n",
    "data_original = sio.loadmat(parent_input_sagar_original)"
   ],
   "execution_count": 25,
   "outputs": []
  },
  {
   "cell_type": "code",
   "id": "750fd2cc-c4d1-4573-8d83-41820fdbcda8",
   "metadata": {
    "ExecuteTime": {
     "end_time": "2024-06-11T14:52:53.564459Z",
     "start_time": "2024-06-11T14:52:53.410744Z"
    }
   },
   "source": [
    "parent_input_sagar_original = base_dir+'NEMO_scripts-master/Data/odor_responses_S1-3_regionized/odor_responses_S1.mat'\n",
    "data1 = sio.loadmat(parent_input_sagar_original)\n",
    "parent_input_sagar_original = base_dir+'NEMO_scripts-master/Data/odor_responses_S1-3_regionized/odor_responses_S2.mat'\n",
    "data2 = sio.loadmat(parent_input_sagar_original)\n",
    "parent_input_sagar_original = base_dir+'NEMO_scripts-master/Data/odor_responses_S1-3_regionized/odor_responses_S3.mat'\n",
    "data3 = sio.loadmat(parent_input_sagar_original)"
   ],
   "execution_count": 26,
   "outputs": []
  },
  {
   "cell_type": "code",
   "id": "9133fbf4-9c9e-419e-a4b4-025f71b6ae06",
   "metadata": {
    "ExecuteTime": {
     "end_time": "2024-06-11T14:33:14.758043Z",
     "start_time": "2024-06-11T14:33:14.751894Z"
    }
   },
   "source": [
    "rois_all=  []\n",
    "for data_s in [data1,data2,data3]:\n",
    "    rois = {}\n",
    "    rois['PirF']= data_s['odor_vals'][0][0]\n",
    "    rois['PirT']= data_s['odor_vals'][0][1]\n",
    "    rois['AMY']= data_s['odor_vals'][0][2]\n",
    "    rois['OFC']= data_s['odor_vals'][0][3]\n",
    "    rois_all.append(rois)\n"
   ],
   "execution_count": 8,
   "outputs": []
  },
  {
   "cell_type": "code",
   "id": "92a43f47-225e-4959-9b27-88c0f3c37859",
   "metadata": {
    "ExecuteTime": {
     "end_time": "2024-06-11T14:33:15.764887Z",
     "start_time": "2024-06-11T14:33:15.761816Z"
    }
   },
   "source": [
    "for rois in rois_all:\n",
    "    for key in rois.keys():\n",
    "        roi=rois[key]\n",
    "        roi = np.moveaxis(roi,-1,0)\n",
    "        # roi = np.mean(roi,-1)\n",
    "        rois[key]=roi"
   ],
   "execution_count": 9,
   "outputs": []
  },
  {
   "cell_type": "code",
   "execution_count": 13,
   "id": "9e3949aa-d17e-4816-ba96-28d92397140e",
   "metadata": {},
   "source": [
    "def prepare_dataset(ds):\n",
    "    # ds['y'] = ds['y'].apply(ast.literal_eval)\n",
    "    ds['embeddings'] = ds['embeddings'].apply(ast.literal_eval)\n",
    "    return ds"
   ],
   "outputs": []
  },
  {
   "cell_type": "code",
   "execution_count": 14,
   "id": "1f5c4448-dd41-48d8-ab5b-d7ecaf373f36",
   "metadata": {},
   "source": [
    "def custom_linear_regression(X,y):\n",
    "    clf = RidgeCV(alphas=[1e-3, 1e-2, 1e-1, 1])    \n",
    "    estimator= clf.fit(X,y)\n",
    "    return estimator"
   ],
   "outputs": []
  },
  {
   "cell_type": "code",
   "execution_count": 18,
   "id": "d1c6d46c-dfd8-4884-a225-59f0586e5f37",
   "metadata": {},
   "source": [
    "parent_input_sagar = base_dir+'curated_datasets/mols_datasets/curated_sagar_subjects_nonaminus.csv'\n",
    "sagar_mols = pd.read_csv(parent_input_sagar)\n"
   ],
   "outputs": []
  },
  {
   "cell_type": "code",
   "id": "8e3b1c05-bca6-4653-b9d8-916dbfe90c7f",
   "metadata": {
    "ExecuteTime": {
     "end_time": "2024-06-11T15:07:47.581623Z",
     "start_time": "2024-06-11T15:07:47.574194Z"
    }
   },
   "source": [
    "def explainable_variance(data, bias_correction=True, do_zscore=True):\n",
    "    \"\"\"Compute explainable variance for a set of voxels.\n",
    "\n",
    "    Parameters\n",
    "    ----------\n",
    "    data : array of shape (n_repeats, n_times, n_voxels)\n",
    "        fMRI responses of the repeated test set.\n",
    "    bias_correction: bool\n",
    "        Perform bias correction based on the number of repetitions.\n",
    "    do_zscore: bool\n",
    "        z-score the data in time. Only set to False if your data time courses\n",
    "        are already z-scored.\n",
    "\n",
    "    Returns\n",
    "    -------\n",
    "    ev : array of shape (n_voxels, )\n",
    "        Explainable variance per voxel.\n",
    "    \"\"\"\n",
    "    if do_zscore:\n",
    "        data = scipy.stats.zscore(data, axis=1)\n",
    "\n",
    "    mean_var = data.var(axis=1, dtype=np.float64, ddof=1).mean(axis=0)\n",
    "    var_mean = data.mean(axis=0).var(axis=0, dtype=np.float64, ddof=1)\n",
    "    ev = var_mean / mean_var\n",
    "\n",
    "    if bias_correction:\n",
    "        n_repeats = data.shape[0]\n",
    "        ev = ev - (1 - ev) / (n_repeats - 1)\n",
    "    return ev\n"
   ],
   "execution_count": 39,
   "outputs": []
  },
  {
   "cell_type": "code",
   "id": "fe7594d3-bcc6-4d17-9ca9-74e7f7e729a5",
   "metadata": {
    "ExecuteTime": {
     "end_time": "2024-06-11T14:54:21.383602Z",
     "start_time": "2024-06-11T14:54:21.378439Z"
    }
   },
   "source": [
    "# sagar_mols1 = sagar_mols.loc[sagar_mols['subject']==1].sort_values('cid')\n",
    "# sagar_mols2 = sagar_mols.loc[sagar_mols['subject']==2].sort_values('cid')\n",
    "# sagar_mols3 = sagar_mols.loc[sagar_mols['subject']==3].sort_values('cid')\n",
    "\n",
    "sagar_mols1 = sagar_mols.loc[sagar_mols['subject']==1]\n",
    "sagar_mols2 = sagar_mols.loc[sagar_mols['subject']==2]\n",
    "sagar_mols3 = sagar_mols.loc[sagar_mols['subject']==3]"
   ],
   "execution_count": 27,
   "outputs": []
  },
  {
   "metadata": {},
   "cell_type": "code",
   "source": [
    "fmri_data_y=rois_all[:]['PirF']\n",
    "# fmri_data_y = np.expand_dims(fmri_data_y.mean(-1),0)\n",
    "print(\"(n_repeats, n_samples_test, n_voxels) =\", fmri_data_y.shape)\n",
    "ev = explainable_variance(fmri_data_y)\n",
    "print(\"(n_voxels,) =\", ev.shape)"
   ],
   "id": "efc82774e36163d7",
   "execution_count": null,
   "outputs": []
  },
  {
   "cell_type": "code",
   "execution_count": 22,
   "id": "e154320a-2246-4faa-b61b-239dc353271e",
   "metadata": {},
   "source": [
    "def pipeline_regression(X,y,times,n_components=None):\n",
    "    mserrorrs_corssvalidated = []\n",
    "    correlations_corssvalidated = []\n",
    "    for i in range(times):\n",
    "        X_train, X_test, y_train, y_test = train_test_split(X, y, test_size=0.2, random_state=seed+i)  \n",
    "        scaler = StandardScaler()\n",
    "        X_train = scaler.fit_transform(X_train)\n",
    "        X_test = scaler.transform(X_test)\n",
    "        if n_components is not None:\n",
    "            pca = PCA(n_components=n_components)\n",
    "            X_train=pca.fit_transform(X_train)\n",
    "            X_test=pca.transform(X_test)\n",
    "        linreg =custom_linear_regression(X_train,y_train)\n",
    "        mseerrors, correlations=metrics_per_descritor(X_test,y_test,linreg)\n",
    "        mserrorrs_corssvalidated.append(mseerrors)\n",
    "        correlations_corssvalidated.append(correlations)\n",
    "    return mserrorrs_corssvalidated, correlations_corssvalidated"
   ],
   "outputs": []
  },
  {
   "cell_type": "code",
   "execution_count": 23,
   "id": "93339a89-58d3-40e3-99b7-802bcfe771fe",
   "metadata": {},
   "source": [
    "def metrics_per_descritor(X,y,linreg):\n",
    "    predicted=linreg.predict(X)\n",
    "    mseerrors = []\n",
    "    correlations = []\n",
    "    if len(y.shape)>1:\n",
    "        for i in range(y.shape[1]):\n",
    "            mseerror=mean_squared_error(predicted[:,i],y[:,i])\n",
    "            correlation=scipy.stats.pearsonr(predicted[:,i], y[:,i])\n",
    "            mseerrors.append(mseerror)\n",
    "            correlations.append(correlation)\n",
    "            # print(predicted[:,i], y[:,i])\n",
    "        \n",
    "    else:\n",
    "        mseerror=mean_squared_error(predicted,y)\n",
    "        correlation=scipy.stats.pearsonr(predicted, y)\n",
    "        mseerrors.append(mseerror)\n",
    "        correlations.append(correlation)\n",
    "    return mseerrors, correlations\n",
    "        # plot()\n",
    "        \n",
    "    \n",
    "    "
   ],
   "outputs": []
  },
  {
   "cell_type": "code",
   "execution_count": 24,
   "id": "981e9f82-3587-4745-8220-3619393d82c3",
   "metadata": {},
   "source": [
    "def compute_correlation_keller(subject,roi,times , n_components,per_descritor=False):\n",
    "            \n",
    "    fmri_data_y=rois_all[subject-1][roi]\n",
    "\n",
    "    \n",
    "    corrs_molformer=[]\n",
    "\n",
    "    mses_molformer=[]\n",
    "    fmri_data_y_mean = fmri_data_y.mean(-1)\n",
    "    for i in [0,1,2,3,4,5,6,7,8,9,10,11,13]:\n",
    "    # for i in [0,1,2,3,4,13]:\n",
    "        df_keller_mse_molformers=[]\n",
    "        df_keller_cor_molformers=[]\n",
    "        for y_i in range(fmri_data_y_mean.shape[1]): \n",
    "        # for y_i in range(7): \n",
    "            input_file_keller_molformer = '/local_storage/datasets/farzaneh/alignment_olfaction_datasets/curated_datasets/embeddings/molformer/sagar_molformer_embeddings_'+str(i)+'_Apr17.csv'\n",
    "            df_embeddings = pd.read_csv(input_file_keller_molformer)\n",
    "            # df_embeddings_group = average_sagar_subject(df_embeddings)\n",
    "            df_embeddings = prepare_dataset(df_embeddings)\n",
    "            embeddings=df_embeddings[df_embeddings['subject']==subject]['embeddings']\n",
    "            embeddings  = np.asarray(embeddings.values.tolist())\n",
    "            \n",
    "            \n",
    "            df_keller_mse_molformer, df_keller_cor_molformer = pipeline_regression(embeddings,fmri_data_y_mean[:,y_i],times,n_components=n_components)\n",
    "            df_keller_mse_molformers.append(df_keller_mse_molformer)\n",
    "            df_keller_cor_molformers.append(df_keller_cor_molformer)\n",
    "        \n",
    "    corrs_molformer.append(df_keller_cor_molformers)\n",
    "    mses_molformer.append(df_keller_mse_molformers)\n",
    "\n",
    "    return corrs_molformer,mses_molformer"
   ],
   "outputs": []
  },
  {
   "cell_type": "code",
   "execution_count": null,
   "id": "22df5788-fa5b-4f4b-86a8-6359c6195c71",
   "metadata": {},
   "source": [
    "seed=2024\n",
    "\n",
    "# def extract_x_y(subject,area,input)\\\n",
    "corrs_molfomers=[]\n",
    "mses_molformers=[]\n",
    "results_df_all = pd.DataFrame()\n",
    "\n",
    "for subject in [2,3]:\n",
    "    for roi in ['OFC']:\n",
    "        corrs_molfomer,mses_molformer = compute_correlation_keller(subject=subject,roi=roi,times=30 ,n_components=20,per_descritor=False)\n",
    "        corrs_molfomer_squeezed = np.squeeze(np.asarray(corrs_molfomer),0)\n",
    "        corrs_molfomer_squeezed = np.squeeze(corrs_molfomer_squeezed,-2)\n",
    "        \n",
    "        mses_molfomer_squeezed = np.squeeze(np.asarray(mses_molformer),0)\n",
    "        mses_molfomer_squeezed = np.squeeze(mses_molfomer_squeezed,-1)\n",
    "\n",
    "        statistic= corrs_molfomer_squeezed[:,:,0]\n",
    "        p_value= corrs_molfomer_squeezed[:,:,1]\n",
    "        p_value_df = pd.DataFrame.from_dict(p_value)\n",
    "        p_value_df['fmri_index'] = p_value_df.index\n",
    "        p_value_df['data'] = \"p_value\"\n",
    "        statistics_df = pd.DataFrame.from_dict(statistic)\n",
    "        statistics_df['fmri_index'] = statistics_df.index\n",
    "        statistics_df['data'] = \"statistic\"\n",
    "        mses_df = pd.DataFrame.from_dict(mses_molfomer_squeezed)\n",
    "        mses_df['fmri_index'] = mses_df.index\n",
    "        mses_df['data'] = \"mse\"\n",
    "        results_df = pd.concat([p_value_df, statistics_df])\n",
    "        results_df = pd.concat([results_df, mses_df])\n",
    "        results_df[\"roi\"] = roi\n",
    "        results_df[\"subject\"] = subject\n",
    "        results_df.to_csv('fmri_'+str(subject)+'_'+roi+'.csv', index=False)  \n",
    "        results_df_all = pd.concat([results_df, results_df_all])\n",
    "        "
   ],
   "outputs": []
  },
  {
   "cell_type": "code",
   "execution_count": null,
   "id": "ed0bbafa-0c76-46e4-87db-bcf329444253",
   "metadata": {},
   "source": [
    "results_df_all.to_csv('fmri_all.csv', index=False)  "
   ],
   "outputs": []
  },
  {
   "cell_type": "code",
   "execution_count": null,
   "id": "16a44f02-c247-46f4-a958-f13728daa11a",
   "metadata": {},
   "source": [],
   "outputs": []
  },
  {
   "cell_type": "code",
   "execution_count": null,
   "id": "8bba616e-21b5-40df-8b9a-4b2ce05551e2",
   "metadata": {},
   "source": [],
   "outputs": []
  },
  {
   "cell_type": "code",
   "execution_count": null,
   "id": "78c70c5f-46cf-4af8-adcd-1926518b4b41",
   "metadata": {},
   "source": [],
   "outputs": []
  },
  {
   "cell_type": "code",
   "execution_count": null,
   "id": "77901316-5c71-4423-bbf0-3f7a262260e0",
   "metadata": {},
   "source": [],
   "outputs": []
  },
  {
   "cell_type": "code",
   "execution_count": null,
   "id": "d08c7182-1128-46f4-b0fc-2344c1c28c37",
   "metadata": {},
   "source": [],
   "outputs": []
  },
  {
   "cell_type": "code",
   "execution_count": null,
   "id": "825393b8-11a8-4768-8687-15e3ea84f4b4",
   "metadata": {},
   "source": [
    "# corrs_molfomer_squeezed = np.squeeze(np.asarray(corrs_molfomer),0)\n",
    "# corrs_molfomer_squeezed = np.squeeze(corrs_molfomer_squeezed,-2)\n",
    "#  # corrs_molfomers.append(corrs_molfomer_squeezed)   \n",
    "\n",
    "# mses_molfomer_squeezed = np.squeeze(np.asarray(mses_molformer),0)\n",
    "# mses_molfomer_squeezed = np.squeeze(mses_molfomer_squeezed,-1)\n",
    "\n",
    "# data_dict = {'mse': mses_molfomer_squeezed , \"corr\": corrs_molfomer_squeezed}\n",
    "# data_df = pd.DataFrame.from_dict(data_dict)\n",
    "# data_df.to_csv(roi +\"_\"+ str(subject)+ \"fmri.csv\")"
   ],
   "outputs": []
  },
  {
   "cell_type": "code",
   "execution_count": null,
   "id": "2d125804-b55d-4510-8c11-96fa38b57af1",
   "metadata": {},
   "source": [
    "np.asarray(mses_molformer).shape \n"
   ],
   "outputs": []
  },
  {
   "cell_type": "code",
   "execution_count": null,
   "id": "289c5e21-e1dd-4544-96ea-d20b1cc26709",
   "metadata": {},
   "source": [],
   "outputs": []
  }
 ],
 "metadata": {
  "kernelspec": {
   "display_name": "MoLFormer_N2024",
   "language": "python",
   "name": "molformer_n2024"
  },
  "language_info": {
   "codemirror_mode": {
    "name": "ipython",
    "version": 3
   },
   "file_extension": ".py",
   "mimetype": "text/x-python",
   "name": "python",
   "nbconvert_exporter": "python",
   "pygments_lexer": "ipython3",
   "version": "3.8.18"
  }
 },
 "nbformat": 4,
 "nbformat_minor": 5
}
