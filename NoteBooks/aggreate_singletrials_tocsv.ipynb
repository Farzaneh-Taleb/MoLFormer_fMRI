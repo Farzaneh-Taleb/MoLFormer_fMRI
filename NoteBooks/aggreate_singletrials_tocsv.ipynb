{
 "cells": [
  {
   "metadata": {
    "ExecuteTime": {
     "end_time": "2024-09-28T21:06:48.505007Z",
     "start_time": "2024-09-28T21:06:48.501174Z"
    }
   },
   "cell_type": "code",
   "source": [
    "import os\n",
    "import sys\n",
    "parent_dir=\"/Volumes/work/phd/MoLFormer_N2024\"\n",
    "sys.path.append(parent_dir)\n",
    "parent_dir=\"/Midgard/home/farzantn/mambaforge/envs/MolTran_CUDA11_cuda/lib/python3.8\"\n",
    "sys.path.append(parent_dir)"
   ],
   "id": "c5da6586d1206d40",
   "outputs": [],
   "execution_count": 5
  },
  {
   "cell_type": "code",
   "id": "a8524742-4851-4c08-9e2b-542465d42aa2",
   "metadata": {
    "ExecuteTime": {
     "end_time": "2024-09-28T21:06:50.348067Z",
     "start_time": "2024-09-28T21:06:48.881040Z"
    }
   },
   "source": [
    "import scipy.io as sio\n",
    "parent_dir=\"/Midgard/home/farzantn/mambaforge/envs/MolTran_CUDA11_cuda/lib/python3.8\"\n",
    "sys.path.append(parent_dir)\n",
    "import numpy as np\n",
    "path='/local_storage/datasets/farzaneh/Olfaction/fmri_test/'\n",
    "import pandas as pd\n",
    "base_directory = ''\n"
   ],
   "outputs": [],
   "execution_count": 6
  },
  {
   "metadata": {
    "ExecuteTime": {
     "end_time": "2024-09-28T21:06:50.351925Z",
     "start_time": "2024-09-28T21:06:50.349572Z"
    }
   },
   "cell_type": "code",
   "source": [
    "# base_dir = '/local_storage/datasets/farzaneh/alignment_olfaction_datasets/'\n",
    "base_dir= '../../../../T5 EVO/fmri/Fahime'\n",
    "base_path= '../../../../T5 EVO/alignment_olfaction_datasets'"
   ],
   "id": "415eb2db99fed7ba",
   "outputs": [],
   "execution_count": 7
  },
  {
   "metadata": {
    "ExecuteTime": {
     "end_time": "2024-09-28T21:06:50.502392Z",
     "start_time": "2024-09-28T21:06:50.353116Z"
    }
   },
   "cell_type": "code",
   "source": "! ls '../../../../T5 EVO/fMRI_by_Fahimeh/S2/Set_1_Sess_2_Run_4'",
   "id": "1e22c4c281966d11",
   "outputs": [
    {
     "name": "stdout",
     "output_type": "stream",
     "text": [
      "ls: ../../../../T5 EVO/fMRI_by_Fahimeh/S2/Set_1_Sess_2_Run_4: No such file or directory\r\n"
     ]
    }
   ],
   "execution_count": 8
  },
  {
   "metadata": {
    "ExecuteTime": {
     "end_time": "2024-09-28T21:06:50.650324Z",
     "start_time": "2024-09-28T21:06:50.504933Z"
    }
   },
   "cell_type": "code",
   "source": "",
   "id": "680bb69597497153",
   "outputs": [
    {
     "name": "stdout",
     "output_type": "stream",
     "text": [
      "\u001B[31m../../../../T5 EVO/alignment_olfaction_datasets/curated_datasets/embeddings/molformer/sagar_molformer_embeddings_0_Apr17.csv\u001B[m\u001B[m\r\n"
     ]
    }
   ],
   "execution_count": 9
  },
  {
   "cell_type": "code",
   "id": "e82f3bbb-ff78-4729-8101-d8f10de7e211",
   "metadata": {
    "ExecuteTime": {
     "end_time": "2024-09-28T21:06:50.657570Z",
     "start_time": "2024-09-28T21:06:50.652103Z"
    }
   },
   "source": [
    "def process_condition_data(condition_data):\n",
    "    condition = condition_data['names']\n",
    "    condition = np.moveaxis(condition,-1,0)\n",
    "    condition = [int(i[0][0]) for i in condition]\n",
    "    condition = np.array(condition)\n",
    "    return condition"
   ],
   "outputs": [],
   "execution_count": 10
  },
  {
   "metadata": {
    "ExecuteTime": {
     "end_time": "2024-09-28T21:06:50.664719Z",
     "start_time": "2024-09-28T21:06:50.658613Z"
    }
   },
   "cell_type": "code",
   "source": [
    "# for all directories in s1 directory read fullmet_APC\n",
    "# s_number = 3\n",
    "\n",
    "# all_apc_data = []\n",
    "# all_amygdala_data = []\n",
    "# all_ppc_data = []\n",
    "# all_ofc_data = []\n",
    "# all_condition_data = []\n",
    "\n",
    "\n",
    "#create an empty dataframe\n",
    "\n",
    "# 'APC', 'Amygdala', 'PPC', 'OFC'\n",
    "def res_to_df(roi,s_number):\n",
    "    s_dir = f'/S{s_number}/'\n",
    "    df_roi_all = pd.DataFrame()\n",
    "    all = 0\n",
    "    for dir in os.listdir(base_dir+f'/S{s_number}/'):\n",
    "        #if directory is not a hidden directory\n",
    "        if dir[0] == '.':\n",
    "            continue\n",
    "        # print(dir)\n",
    "        roi_dir = base_dir+s_dir+dir+f'/fullmat_{roi}.mat'\n",
    "        condition = base_dir+s_dir+dir+f'/conditions_NEMO_0{s_number}.mat'\n",
    "        try:\n",
    "            roi_data = sio.loadmat(roi_dir)['odor_responses']\n",
    "            print(roi_data.shape,roi,s_number)\n",
    "            \n",
    "            roi_data=np.moveaxis(roi_data,-1,0)\n",
    "            all  = roi_data.shape[0]+all\n",
    "            \n",
    "            \n",
    "            #replace nan with None\n",
    "            roi_data = np.where(np.isnan(roi_data), None, roi_data)\n",
    "            condition_data = sio.loadmat(condition)\n",
    "            condition_names = process_condition_data(condition_data)\n",
    "            df = pd.DataFrame([[list(roi_data[i, j, :]) for j in range(roi_data.shape[1])] for i in range(roi_data.shape[0])])\n",
    "    \n",
    "            df['condition'] = condition_names\n",
    "            df['subject'] = s_number\n",
    "            df['roi'] = 'APC'\n",
    "            df['run'] = dir.split('_')[-1]\n",
    "            df['session'] = dir.split('_')[-3]\n",
    "            df['set'] = dir.split('_')[-5]\n",
    "            df_roi_all = pd.concat([df_roi_all, df],axis=0)\n",
    "        except NotADirectoryError:\n",
    "            print(dir)  \n",
    "    \n",
    "    # return df_roi_all\n",
    "    # df_roi_all.to_csv(f'{base_dir}/csvs/fmrii_{roi}_S{s_number}.csv', index=False)\n",
    "    print(\"total\",all,df_roi_all.shape[0],roi,s_number)\n",
    "    # assert all == df_roi_all.shape[0] \n",
    "    return df_roi_all"
   ],
   "id": "cb3b116aed7c62f2",
   "outputs": [],
   "execution_count": 11
  },
  {
   "metadata": {
    "ExecuteTime": {
     "end_time": "2024-09-28T21:07:12.668754Z",
     "start_time": "2024-09-28T21:06:51.125366Z"
    }
   },
   "cell_type": "code",
   "source": [
    "for i in [1,2,3]:\n",
    "    for roi in [ 'OFC', 'APC', 'Amygdala', 'PPC']:\n",
    "        df_roi_ofc_3 = res_to_df(roi,i)\n",
    "        # print(\"shape\",df_roi_ofc_3.shape)"
   ],
   "id": "619baa6eb99449f2",
   "outputs": [
    {
     "name": "stdout",
     "output_type": "stream",
     "text": [
      "(450, 11, 100) Amygdala 1\n",
      "(450, 11, 100) Amygdala 1\n",
      "(450, 11, 100) Amygdala 1\n",
      "(450, 11, 100) Amygdala 1\n",
      "(450, 11, 100) Amygdala 1\n",
      "(450, 11, 100) Amygdala 1\n",
      "(450, 11, 100) Amygdala 1\n",
      "(450, 11, 100) Amygdala 1\n",
      "(450, 11, 100) Amygdala 1\n",
      "(450, 11, 100) Amygdala 1\n",
      "(450, 11, 100) Amygdala 1\n",
      "(450, 11, 100) Amygdala 1\n",
      "(450, 11, 100) Amygdala 1\n",
      "(450, 11, 100) Amygdala 1\n",
      "(450, 11, 100) Amygdala 1\n",
      "(450, 11, 100) Amygdala 1\n",
      "(450, 11, 100) Amygdala 1\n",
      "(450, 11, 100) Amygdala 1\n",
      "(450, 11, 100) Amygdala 1\n",
      "(450, 11, 100) Amygdala 1\n",
      "(450, 11, 100) Amygdala 1\n",
      "(450, 11, 100) Amygdala 1\n",
      "(450, 11, 100) Amygdala 1\n",
      "(450, 11, 100) Amygdala 1\n",
      "(450, 11, 90) Amygdala 1\n",
      "(450, 11, 90) Amygdala 1\n",
      "(450, 11, 90) Amygdala 1\n",
      "(450, 11, 90) Amygdala 1\n",
      "(450, 11, 90) Amygdala 1\n",
      "(450, 11, 90) Amygdala 1\n",
      "(450, 11, 90) Amygdala 1\n",
      "(450, 11, 90) Amygdala 1\n",
      "(450, 11, 90) Amygdala 1\n",
      "(450, 11, 90) Amygdala 1\n",
      "(450, 11, 90) Amygdala 1\n",
      "(450, 11, 90) Amygdala 1\n",
      "(450, 11, 90) Amygdala 1\n",
      "(450, 11, 90) Amygdala 1\n",
      "(450, 11, 90) Amygdala 1\n",
      "(450, 11, 90) Amygdala 1\n",
      "(450, 11, 90) Amygdala 1\n",
      "(450, 11, 90) Amygdala 1\n",
      "(450, 11, 90) Amygdala 1\n",
      "(450, 11, 90) Amygdala 1\n",
      "(450, 11, 90) Amygdala 1\n",
      "(450, 11, 90) Amygdala 1\n",
      "(450, 11, 90) Amygdala 1\n",
      "(450, 11, 90) Amygdala 1\n",
      "total 4560 4560 Amygdala 1\n",
      "(546, 11, 90) Amygdala 2\n",
      "(546, 11, 90) Amygdala 2\n",
      "(546, 11, 90) Amygdala 2\n",
      "(546, 11, 90) Amygdala 2\n"
     ]
    },
    {
     "name": "stderr",
     "output_type": "stream",
     "text": [
      "Exception ignored in: <bound method IPythonKernel._clean_thread_parent_frames of <ipykernel.ipkernel.IPythonKernel object at 0x10ee15290>>\n",
      "Traceback (most recent call last):\n",
      "  File \"/Users/farzaneh/opt/anaconda3/envs/MoLFormer_N2024/lib/python3.11/site-packages/ipykernel/ipkernel.py\", line 775, in _clean_thread_parent_frames\n",
      "    def _clean_thread_parent_frames(\n",
      "\n",
      "KeyboardInterrupt: \n"
     ]
    },
    {
     "name": "stdout",
     "output_type": "stream",
     "text": [
      "(546, 11, 90) Amygdala 2\n",
      "(546, 11, 90) Amygdala 2\n",
      "(546, 11, 90) Amygdala 2\n",
      "(546, 11, 90) Amygdala 2\n",
      "(546, 11, 90) Amygdala 2\n",
      "(546, 11, 90) Amygdala 2\n",
      "(546, 11, 90) Amygdala 2\n",
      "(546, 11, 90) Amygdala 2\n",
      "(546, 11, 90) Amygdala 2\n",
      "(546, 11, 90) Amygdala 2\n",
      "(546, 11, 90) Amygdala 2\n",
      "(546, 11, 90) Amygdala 2\n",
      "(546, 11, 90) Amygdala 2\n",
      "(546, 11, 90) Amygdala 2\n",
      "(546, 11, 90) Amygdala 2\n",
      "(546, 11, 90) Amygdala 2\n",
      "(546, 11, 90) Amygdala 2\n",
      "(546, 11, 90) Amygdala 2\n",
      "(546, 11, 90) Amygdala 2\n",
      "(546, 11, 90) Amygdala 2\n",
      "(546, 11, 90) Amygdala 2\n",
      "(546, 11, 90) Amygdala 2\n",
      "(546, 11, 90) Amygdala 2\n",
      "(546, 11, 90) Amygdala 2\n",
      "(546, 11, 90) Amygdala 2\n",
      "(546, 11, 90) Amygdala 2\n",
      "(546, 11, 90) Amygdala 2\n",
      "(546, 11, 90) Amygdala 2\n",
      "(546, 11, 90) Amygdala 2\n",
      "(546, 11, 90) Amygdala 2\n",
      "(546, 11, 90) Amygdala 2\n",
      "(546, 11, 90) Amygdala 2\n",
      "(546, 11, 90) Amygdala 2\n",
      "(546, 11, 90) Amygdala 2\n",
      "(546, 11, 90) Amygdala 2\n",
      "(546, 11, 90) Amygdala 2\n",
      "(546, 11, 90) Amygdala 2\n",
      "(546, 11, 90) Amygdala 2\n",
      "(546, 11, 90) Amygdala 2\n",
      "(546, 11, 90) Amygdala 2\n",
      "(546, 11, 90) Amygdala 2\n",
      "(546, 11, 90) Amygdala 2\n",
      "(546, 11, 90) Amygdala 2\n",
      "(546, 11, 90) Amygdala 2\n",
      "total 4320 4320 Amygdala 2\n",
      "(397, 11, 90) Amygdala 3\n",
      "(397, 11, 90) Amygdala 3\n",
      "(397, 11, 90) Amygdala 3\n",
      "(397, 11, 90) Amygdala 3\n",
      "(397, 11, 90) Amygdala 3\n",
      "(397, 11, 90) Amygdala 3\n",
      "(397, 11, 90) Amygdala 3\n",
      "(397, 11, 90) Amygdala 3\n",
      "(397, 11, 90) Amygdala 3\n",
      "(397, 11, 90) Amygdala 3\n",
      "(397, 11, 90) Amygdala 3\n",
      "(397, 11, 90) Amygdala 3\n",
      "(397, 11, 90) Amygdala 3\n",
      "(397, 11, 90) Amygdala 3\n",
      "(397, 11, 90) Amygdala 3\n",
      "(397, 11, 90) Amygdala 3\n",
      "(397, 11, 90) Amygdala 3\n",
      "(397, 11, 90) Amygdala 3\n",
      "(397, 11, 90) Amygdala 3\n",
      "(397, 11, 90) Amygdala 3\n",
      "(397, 11, 90) Amygdala 3\n",
      "(397, 11, 90) Amygdala 3\n",
      "(397, 11, 90) Amygdala 3\n",
      "(397, 11, 90) Amygdala 3\n",
      "(397, 11, 90) Amygdala 3\n",
      "(397, 11, 90) Amygdala 3\n",
      "(397, 11, 90) Amygdala 3\n",
      "(397, 11, 90) Amygdala 3\n",
      "(397, 11, 90) Amygdala 3\n",
      "(397, 11, 90) Amygdala 3\n",
      "(397, 11, 90) Amygdala 3\n",
      "(397, 11, 90) Amygdala 3\n",
      "(397, 11, 90) Amygdala 3\n",
      "(397, 11, 90) Amygdala 3\n",
      "(397, 11, 90) Amygdala 3\n",
      "(397, 11, 90) Amygdala 3\n",
      "(397, 11, 90) Amygdala 3\n",
      "(397, 11, 90) Amygdala 3\n",
      "(397, 11, 90) Amygdala 3\n",
      "(397, 11, 90) Amygdala 3\n",
      "(397, 11, 90) Amygdala 3\n",
      "(397, 11, 90) Amygdala 3\n",
      "(397, 11, 90) Amygdala 3\n",
      "(397, 11, 90) Amygdala 3\n",
      "(397, 11, 90) Amygdala 3\n",
      "(397, 11, 90) Amygdala 3\n",
      "(397, 11, 90) Amygdala 3\n",
      "(397, 11, 90) Amygdala 3\n",
      "total 4320 4320 Amygdala 3\n"
     ]
    }
   ],
   "execution_count": 12
  },
  {
   "metadata": {
    "ExecuteTime": {
     "end_time": "2024-08-27T11:39:40.237781Z",
     "start_time": "2024-08-27T11:39:33.265768Z"
    }
   },
   "cell_type": "code",
   "source": "#check none values",
   "id": "5bc3584310e7f022",
   "outputs": [
    {
     "data": {
      "text/plain": [
       "0"
      ]
     },
     "execution_count": 28,
     "metadata": {},
     "output_type": "execute_result"
    }
   ],
   "execution_count": 28
  },
  {
   "metadata": {},
   "cell_type": "code",
   "outputs": [],
   "execution_count": null,
   "source": "",
   "id": "e08756e175250183"
  }
 ],
 "metadata": {
  "kernelspec": {
   "display_name": "MoLFormer_N2024",
   "language": "python",
   "name": "molformer_n2024"
  },
  "language_info": {
   "codemirror_mode": {
    "name": "ipython",
    "version": 3
   },
   "file_extension": ".py",
   "mimetype": "text/x-python",
   "name": "python",
   "nbconvert_exporter": "python",
   "pygments_lexer": "ipython3",
   "version": "3.8.18"
  }
 },
 "nbformat": 4,
 "nbformat_minor": 5
}
