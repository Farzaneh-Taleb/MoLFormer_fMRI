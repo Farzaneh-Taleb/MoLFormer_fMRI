{
 "cells": [
  {
   "metadata": {
    "ExecuteTime": {
     "end_time": "2025-03-13T09:24:10.944730Z",
     "start_time": "2025-03-13T09:24:10.932938Z"
    }
   },
   "cell_type": "code",
   "source": [
    "import pandas as pd\n",
    "import ast\n",
    "import numpy as np\n",
    "from scipy.stats import pearsonr\n",
    "import matplotlib.pyplot as plt\n",
    "import seaborn as sns\n",
    "from itertools import combinations\n"
   ],
   "id": "c31cb1c7049d3f51",
   "outputs": [],
   "execution_count": 18
  },
  {
   "metadata": {
    "ExecuteTime": {
     "end_time": "2025-03-13T09:24:11.946244Z",
     "start_time": "2025-03-13T09:24:11.942623Z"
    }
   },
   "cell_type": "code",
   "source": "base_dir= '../../../../T5 EVO/fmri/Fahime'",
   "id": "818b24b93b96166b",
   "outputs": [],
   "execution_count": 19
  },
  {
   "metadata": {
    "ExecuteTime": {
     "end_time": "2025-03-13T09:24:12.507725Z",
     "start_time": "2025-03-13T09:24:12.505474Z"
    }
   },
   "cell_type": "code",
   "source": "",
   "id": "ca697a879839cc3f",
   "outputs": [],
   "execution_count": null
  },
  {
   "metadata": {
    "ExecuteTime": {
     "end_time": "2025-03-13T09:24:13.471753Z",
     "start_time": "2025-03-13T09:24:13.461587Z"
    }
   },
   "cell_type": "code",
   "source": [
    "def compute_split_half_avg(a,cid_rows, n_repetition, n_voxels):\n",
    "    # Create 3D array for this CID's data\n",
    "    array_3d = np.zeros((n_repetition, 11, n_voxels))\n",
    "    for row_idx, (_, row) in enumerate(cid_rows.iterrows()):\n",
    "        for col_idx, col in enumerate(a.columns.difference(['CID', 'subject', 'roi', 'run', 'session', 'set'])):\n",
    "            array_3d[row_idx, :, col_idx] = row[col]\n",
    "\n",
    "    # Randomly split repetitions into two halves\n",
    "    split_idx = np.random.permutation(n_repetition)\n",
    "    half1_idx = split_idx[:n_repetition // 2]\n",
    "    half2_idx = split_idx[n_repetition // 2:]\n",
    "\n",
    "    # Average the two halves\n",
    "    avg_half1 = array_3d[half1_idx].mean(axis=0)  # Shape: (11, n_voxels)\n",
    "    avg_half2 = array_3d[half2_idx].mean(axis=0)  # Shape: (11, n_voxels)\n",
    "\n",
    "    #compute the pick average\n",
    "    peak_avg_half1 = np.max(avg_half1, axis=0)\n",
    "    peak_avg_half2 = np.max(avg_half2, axis=0)\n",
    "\n",
    "\n",
    "    # Compute correlation for each voxel\n",
    "\n",
    "\n",
    "    return peak_avg_half1,peak_avg_half2"
   ],
   "id": "59008c938f0d3843",
   "outputs": [],
   "execution_count": 20
  },
  {
   "cell_type": "code",
   "id": "initial_id",
   "metadata": {
    "collapsed": true,
    "ExecuteTime": {
     "end_time": "2025-03-10T20:55:37.188526Z",
     "start_time": "2025-03-10T17:28:04.302071Z"
    }
   },
   "source": [
    "num_splits = 10\n",
    "\n",
    "for subject in [1,2,3]:\n",
    "    for roi in ['APC','PPC','Amygdala','OFC']:\n",
    "\n",
    "        df_all = pd.DataFrame()\n",
    "\n",
    "        a = pd.read_csv(base_dir+f\"/single_trial/fmri_{subject}_{roi}.csv\")\n",
    "        a_copy = a.copy()\n",
    "        for col in a.columns.difference(['CID','subject','roi','run','session','set']):\n",
    "            a_copy[col] = a_copy[col].apply(ast.literal_eval)\n",
    "\n",
    "        # list_of_3d_arrays = [\n",
    "\n",
    "\n",
    "\n",
    "        unique_cids = a_copy['CID'].unique()\n",
    "        n_voxels = len([col for col in a_copy.columns.difference(['CID','subject','roi','run','session','set'])])\n",
    "\n",
    "        voxel_corrs = np.zeros((num_splits, n_voxels))\n",
    "        for split_idx in range(num_splits):\n",
    "            print(f\"Subject {subject}, ROI {roi}, Split {split_idx}\")\n",
    "            split_corrs = []# Store correlations across all splits for each voxel\n",
    "\n",
    "\n",
    "            half_avgs = np.zeros((2,len(unique_cids),n_voxels))\n",
    "            for cid_idx,cid in enumerate(unique_cids):\n",
    "                cid_rows = a_copy[a_copy['CID'] == cid]\n",
    "                n_repetition = len(cid_rows)\n",
    "\n",
    "                peak_avg_half1,peak_avg_half2 = compute_split_half_avg(a,cid_rows, n_repetition, n_voxels)\n",
    "                half_avgs[0,cid_idx] = peak_avg_half1\n",
    "                half_avgs[1,cid_idx] = peak_avg_half2\n",
    "\n",
    "\n",
    "\n",
    "\n",
    "            #replace the nans and infs with zeros\n",
    "            half_avgs = np.nan_to_num(half_avgs)\n",
    "            half_avgs = np.where(np.isinf(half_avgs), 0, half_avgs)\n",
    "            corr_vals = np.array([pearsonr(half_avgs[0, :,v], half_avgs[1,:, v])[0] for v in range(n_voxels)])\n",
    "            corr_vals = np.sqrt((2*corr_vals)/(1+corr_vals))\n",
    "            # voxel_corrs[split_idx] = corr_vals\n",
    "\n",
    "            #apply spearman brown correction\n",
    "\n",
    "\n",
    "\n",
    "\n",
    "            #save in a dataframe together with the subject, roi, split_idx\n",
    "            fmri_df = pd.DataFrame(corr_vals, columns=['fmri'])\n",
    "            fmri_df['voxel'] = np.arange(n_voxels)\n",
    "            fmri_df['subject'] = subject\n",
    "            fmri_df['roi'] = roi\n",
    "            fmri_df['split_idx'] = split_idx\n",
    "            df_all = pd.concat([df_all, fmri_df], axis=0)\n",
    "\n",
    "        df_all.to_csv(base_dir+f\"/noise_ceiling_{subject}_{roi}.csv\", index=False)\n"
   ],
   "outputs": [
    {
     "name": "stdout",
     "output_type": "stream",
     "text": [
      "Subject 1, ROI APC, Split 0\n",
      "Subject 1, ROI APC, Split 1\n",
      "Subject 1, ROI APC, Split 2\n",
      "Subject 1, ROI APC, Split 3\n",
      "Subject 1, ROI APC, Split 4\n",
      "Subject 1, ROI APC, Split 5\n",
      "Subject 1, ROI APC, Split 6\n",
      "Subject 1, ROI APC, Split 7\n",
      "Subject 1, ROI APC, Split 8\n",
      "Subject 1, ROI APC, Split 9\n",
      "Subject 1, ROI PPC, Split 0\n",
      "Subject 1, ROI PPC, Split 1\n",
      "Subject 1, ROI PPC, Split 2\n",
      "Subject 1, ROI PPC, Split 3\n",
      "Subject 1, ROI PPC, Split 4\n",
      "Subject 1, ROI PPC, Split 5\n",
      "Subject 1, ROI PPC, Split 6\n",
      "Subject 1, ROI PPC, Split 7\n",
      "Subject 1, ROI PPC, Split 8\n",
      "Subject 1, ROI PPC, Split 9\n",
      "Subject 1, ROI Amygdala, Split 0\n",
      "Subject 1, ROI Amygdala, Split 1\n",
      "Subject 1, ROI Amygdala, Split 2\n",
      "Subject 1, ROI Amygdala, Split 3\n",
      "Subject 1, ROI Amygdala, Split 4\n",
      "Subject 1, ROI Amygdala, Split 5\n",
      "Subject 1, ROI Amygdala, Split 6\n",
      "Subject 1, ROI Amygdala, Split 7\n",
      "Subject 1, ROI Amygdala, Split 8\n",
      "Subject 1, ROI Amygdala, Split 9\n",
      "Subject 1, ROI OFC, Split 0\n"
     ]
    },
    {
     "name": "stderr",
     "output_type": "stream",
     "text": [
      "/Users/farzaneh/opt/anaconda3/envs/open_pom/lib/python3.9/site-packages/scipy/stats/_stats_py.py:4068: PearsonRConstantInputWarning: An input array is constant; the correlation coefficient is not defined.\n",
      "  warnings.warn(PearsonRConstantInputWarning())\n"
     ]
    },
    {
     "name": "stdout",
     "output_type": "stream",
     "text": [
      "Subject 1, ROI OFC, Split 1\n"
     ]
    },
    {
     "name": "stderr",
     "output_type": "stream",
     "text": [
      "/Users/farzaneh/opt/anaconda3/envs/open_pom/lib/python3.9/site-packages/scipy/stats/_stats_py.py:4068: PearsonRConstantInputWarning: An input array is constant; the correlation coefficient is not defined.\n",
      "  warnings.warn(PearsonRConstantInputWarning())\n"
     ]
    },
    {
     "name": "stdout",
     "output_type": "stream",
     "text": [
      "Subject 1, ROI OFC, Split 2\n"
     ]
    },
    {
     "name": "stderr",
     "output_type": "stream",
     "text": [
      "/Users/farzaneh/opt/anaconda3/envs/open_pom/lib/python3.9/site-packages/scipy/stats/_stats_py.py:4068: PearsonRConstantInputWarning: An input array is constant; the correlation coefficient is not defined.\n",
      "  warnings.warn(PearsonRConstantInputWarning())\n"
     ]
    },
    {
     "name": "stdout",
     "output_type": "stream",
     "text": [
      "Subject 1, ROI OFC, Split 3\n"
     ]
    },
    {
     "name": "stderr",
     "output_type": "stream",
     "text": [
      "/Users/farzaneh/opt/anaconda3/envs/open_pom/lib/python3.9/site-packages/scipy/stats/_stats_py.py:4068: PearsonRConstantInputWarning: An input array is constant; the correlation coefficient is not defined.\n",
      "  warnings.warn(PearsonRConstantInputWarning())\n"
     ]
    },
    {
     "name": "stdout",
     "output_type": "stream",
     "text": [
      "Subject 1, ROI OFC, Split 4\n"
     ]
    },
    {
     "name": "stderr",
     "output_type": "stream",
     "text": [
      "/Users/farzaneh/opt/anaconda3/envs/open_pom/lib/python3.9/site-packages/scipy/stats/_stats_py.py:4068: PearsonRConstantInputWarning: An input array is constant; the correlation coefficient is not defined.\n",
      "  warnings.warn(PearsonRConstantInputWarning())\n"
     ]
    },
    {
     "name": "stdout",
     "output_type": "stream",
     "text": [
      "Subject 1, ROI OFC, Split 5\n"
     ]
    },
    {
     "name": "stderr",
     "output_type": "stream",
     "text": [
      "/Users/farzaneh/opt/anaconda3/envs/open_pom/lib/python3.9/site-packages/scipy/stats/_stats_py.py:4068: PearsonRConstantInputWarning: An input array is constant; the correlation coefficient is not defined.\n",
      "  warnings.warn(PearsonRConstantInputWarning())\n"
     ]
    },
    {
     "name": "stdout",
     "output_type": "stream",
     "text": [
      "Subject 1, ROI OFC, Split 6\n"
     ]
    },
    {
     "name": "stderr",
     "output_type": "stream",
     "text": [
      "/Users/farzaneh/opt/anaconda3/envs/open_pom/lib/python3.9/site-packages/scipy/stats/_stats_py.py:4068: PearsonRConstantInputWarning: An input array is constant; the correlation coefficient is not defined.\n",
      "  warnings.warn(PearsonRConstantInputWarning())\n"
     ]
    },
    {
     "name": "stdout",
     "output_type": "stream",
     "text": [
      "Subject 1, ROI OFC, Split 7\n"
     ]
    },
    {
     "name": "stderr",
     "output_type": "stream",
     "text": [
      "/Users/farzaneh/opt/anaconda3/envs/open_pom/lib/python3.9/site-packages/scipy/stats/_stats_py.py:4068: PearsonRConstantInputWarning: An input array is constant; the correlation coefficient is not defined.\n",
      "  warnings.warn(PearsonRConstantInputWarning())\n",
      "/var/folders/s8/bznqh0v13ddg31lz919tkrmc0000gn/T/ipykernel_53534/739174471.py:42: RuntimeWarning: invalid value encountered in sqrt\n",
      "  corr_vals = np.sqrt((2*corr_vals)/(1+corr_vals))\n"
     ]
    },
    {
     "name": "stdout",
     "output_type": "stream",
     "text": [
      "Subject 1, ROI OFC, Split 8\n"
     ]
    },
    {
     "name": "stderr",
     "output_type": "stream",
     "text": [
      "/Users/farzaneh/opt/anaconda3/envs/open_pom/lib/python3.9/site-packages/scipy/stats/_stats_py.py:4068: PearsonRConstantInputWarning: An input array is constant; the correlation coefficient is not defined.\n",
      "  warnings.warn(PearsonRConstantInputWarning())\n"
     ]
    },
    {
     "name": "stdout",
     "output_type": "stream",
     "text": [
      "Subject 1, ROI OFC, Split 9\n"
     ]
    },
    {
     "name": "stderr",
     "output_type": "stream",
     "text": [
      "/Users/farzaneh/opt/anaconda3/envs/open_pom/lib/python3.9/site-packages/scipy/stats/_stats_py.py:4068: PearsonRConstantInputWarning: An input array is constant; the correlation coefficient is not defined.\n",
      "  warnings.warn(PearsonRConstantInputWarning())\n",
      "/var/folders/s8/bznqh0v13ddg31lz919tkrmc0000gn/T/ipykernel_53534/739174471.py:42: RuntimeWarning: invalid value encountered in sqrt\n",
      "  corr_vals = np.sqrt((2*corr_vals)/(1+corr_vals))\n"
     ]
    },
    {
     "name": "stdout",
     "output_type": "stream",
     "text": [
      "Subject 2, ROI APC, Split 0\n",
      "Subject 2, ROI APC, Split 1\n",
      "Subject 2, ROI APC, Split 2\n",
      "Subject 2, ROI APC, Split 3\n",
      "Subject 2, ROI APC, Split 4\n",
      "Subject 2, ROI APC, Split 5\n",
      "Subject 2, ROI APC, Split 6\n",
      "Subject 2, ROI APC, Split 7\n",
      "Subject 2, ROI APC, Split 8\n",
      "Subject 2, ROI APC, Split 9\n",
      "Subject 2, ROI PPC, Split 0\n"
     ]
    },
    {
     "name": "stderr",
     "output_type": "stream",
     "text": [
      "/Users/farzaneh/opt/anaconda3/envs/open_pom/lib/python3.9/site-packages/scipy/stats/_stats_py.py:4068: PearsonRConstantInputWarning: An input array is constant; the correlation coefficient is not defined.\n",
      "  warnings.warn(PearsonRConstantInputWarning())\n",
      "/var/folders/s8/bznqh0v13ddg31lz919tkrmc0000gn/T/ipykernel_53534/739174471.py:42: RuntimeWarning: invalid value encountered in sqrt\n",
      "  corr_vals = np.sqrt((2*corr_vals)/(1+corr_vals))\n"
     ]
    },
    {
     "name": "stdout",
     "output_type": "stream",
     "text": [
      "Subject 2, ROI PPC, Split 1\n"
     ]
    },
    {
     "name": "stderr",
     "output_type": "stream",
     "text": [
      "/Users/farzaneh/opt/anaconda3/envs/open_pom/lib/python3.9/site-packages/scipy/stats/_stats_py.py:4068: PearsonRConstantInputWarning: An input array is constant; the correlation coefficient is not defined.\n",
      "  warnings.warn(PearsonRConstantInputWarning())\n"
     ]
    },
    {
     "name": "stdout",
     "output_type": "stream",
     "text": [
      "Subject 2, ROI PPC, Split 2\n"
     ]
    },
    {
     "name": "stderr",
     "output_type": "stream",
     "text": [
      "/Users/farzaneh/opt/anaconda3/envs/open_pom/lib/python3.9/site-packages/scipy/stats/_stats_py.py:4068: PearsonRConstantInputWarning: An input array is constant; the correlation coefficient is not defined.\n",
      "  warnings.warn(PearsonRConstantInputWarning())\n"
     ]
    },
    {
     "name": "stdout",
     "output_type": "stream",
     "text": [
      "Subject 2, ROI PPC, Split 3\n"
     ]
    },
    {
     "name": "stderr",
     "output_type": "stream",
     "text": [
      "/Users/farzaneh/opt/anaconda3/envs/open_pom/lib/python3.9/site-packages/scipy/stats/_stats_py.py:4068: PearsonRConstantInputWarning: An input array is constant; the correlation coefficient is not defined.\n",
      "  warnings.warn(PearsonRConstantInputWarning())\n",
      "/var/folders/s8/bznqh0v13ddg31lz919tkrmc0000gn/T/ipykernel_53534/739174471.py:42: RuntimeWarning: invalid value encountered in sqrt\n",
      "  corr_vals = np.sqrt((2*corr_vals)/(1+corr_vals))\n"
     ]
    },
    {
     "name": "stdout",
     "output_type": "stream",
     "text": [
      "Subject 2, ROI PPC, Split 4\n"
     ]
    },
    {
     "name": "stderr",
     "output_type": "stream",
     "text": [
      "/Users/farzaneh/opt/anaconda3/envs/open_pom/lib/python3.9/site-packages/scipy/stats/_stats_py.py:4068: PearsonRConstantInputWarning: An input array is constant; the correlation coefficient is not defined.\n",
      "  warnings.warn(PearsonRConstantInputWarning())\n"
     ]
    },
    {
     "name": "stdout",
     "output_type": "stream",
     "text": [
      "Subject 2, ROI PPC, Split 5\n"
     ]
    },
    {
     "name": "stderr",
     "output_type": "stream",
     "text": [
      "/Users/farzaneh/opt/anaconda3/envs/open_pom/lib/python3.9/site-packages/scipy/stats/_stats_py.py:4068: PearsonRConstantInputWarning: An input array is constant; the correlation coefficient is not defined.\n",
      "  warnings.warn(PearsonRConstantInputWarning())\n"
     ]
    },
    {
     "name": "stdout",
     "output_type": "stream",
     "text": [
      "Subject 2, ROI PPC, Split 6\n"
     ]
    },
    {
     "name": "stderr",
     "output_type": "stream",
     "text": [
      "/Users/farzaneh/opt/anaconda3/envs/open_pom/lib/python3.9/site-packages/scipy/stats/_stats_py.py:4068: PearsonRConstantInputWarning: An input array is constant; the correlation coefficient is not defined.\n",
      "  warnings.warn(PearsonRConstantInputWarning())\n"
     ]
    },
    {
     "name": "stdout",
     "output_type": "stream",
     "text": [
      "Subject 2, ROI PPC, Split 7\n"
     ]
    },
    {
     "name": "stderr",
     "output_type": "stream",
     "text": [
      "/Users/farzaneh/opt/anaconda3/envs/open_pom/lib/python3.9/site-packages/scipy/stats/_stats_py.py:4068: PearsonRConstantInputWarning: An input array is constant; the correlation coefficient is not defined.\n",
      "  warnings.warn(PearsonRConstantInputWarning())\n"
     ]
    },
    {
     "name": "stdout",
     "output_type": "stream",
     "text": [
      "Subject 2, ROI PPC, Split 8\n"
     ]
    },
    {
     "name": "stderr",
     "output_type": "stream",
     "text": [
      "/Users/farzaneh/opt/anaconda3/envs/open_pom/lib/python3.9/site-packages/scipy/stats/_stats_py.py:4068: PearsonRConstantInputWarning: An input array is constant; the correlation coefficient is not defined.\n",
      "  warnings.warn(PearsonRConstantInputWarning())\n"
     ]
    },
    {
     "name": "stdout",
     "output_type": "stream",
     "text": [
      "Subject 2, ROI PPC, Split 9\n"
     ]
    },
    {
     "name": "stderr",
     "output_type": "stream",
     "text": [
      "/Users/farzaneh/opt/anaconda3/envs/open_pom/lib/python3.9/site-packages/scipy/stats/_stats_py.py:4068: PearsonRConstantInputWarning: An input array is constant; the correlation coefficient is not defined.\n",
      "  warnings.warn(PearsonRConstantInputWarning())\n"
     ]
    },
    {
     "name": "stdout",
     "output_type": "stream",
     "text": [
      "Subject 2, ROI Amygdala, Split 0\n"
     ]
    },
    {
     "name": "stderr",
     "output_type": "stream",
     "text": [
      "/Users/farzaneh/opt/anaconda3/envs/open_pom/lib/python3.9/site-packages/scipy/stats/_stats_py.py:4068: PearsonRConstantInputWarning: An input array is constant; the correlation coefficient is not defined.\n",
      "  warnings.warn(PearsonRConstantInputWarning())\n"
     ]
    },
    {
     "name": "stdout",
     "output_type": "stream",
     "text": [
      "Subject 2, ROI Amygdala, Split 1\n"
     ]
    },
    {
     "name": "stderr",
     "output_type": "stream",
     "text": [
      "/Users/farzaneh/opt/anaconda3/envs/open_pom/lib/python3.9/site-packages/scipy/stats/_stats_py.py:4068: PearsonRConstantInputWarning: An input array is constant; the correlation coefficient is not defined.\n",
      "  warnings.warn(PearsonRConstantInputWarning())\n"
     ]
    },
    {
     "name": "stdout",
     "output_type": "stream",
     "text": [
      "Subject 2, ROI Amygdala, Split 2\n"
     ]
    },
    {
     "name": "stderr",
     "output_type": "stream",
     "text": [
      "/Users/farzaneh/opt/anaconda3/envs/open_pom/lib/python3.9/site-packages/scipy/stats/_stats_py.py:4068: PearsonRConstantInputWarning: An input array is constant; the correlation coefficient is not defined.\n",
      "  warnings.warn(PearsonRConstantInputWarning())\n"
     ]
    },
    {
     "name": "stdout",
     "output_type": "stream",
     "text": [
      "Subject 2, ROI Amygdala, Split 3\n"
     ]
    },
    {
     "name": "stderr",
     "output_type": "stream",
     "text": [
      "/Users/farzaneh/opt/anaconda3/envs/open_pom/lib/python3.9/site-packages/scipy/stats/_stats_py.py:4068: PearsonRConstantInputWarning: An input array is constant; the correlation coefficient is not defined.\n",
      "  warnings.warn(PearsonRConstantInputWarning())\n"
     ]
    },
    {
     "name": "stdout",
     "output_type": "stream",
     "text": [
      "Subject 2, ROI Amygdala, Split 4\n"
     ]
    },
    {
     "name": "stderr",
     "output_type": "stream",
     "text": [
      "/Users/farzaneh/opt/anaconda3/envs/open_pom/lib/python3.9/site-packages/scipy/stats/_stats_py.py:4068: PearsonRConstantInputWarning: An input array is constant; the correlation coefficient is not defined.\n",
      "  warnings.warn(PearsonRConstantInputWarning())\n"
     ]
    },
    {
     "name": "stdout",
     "output_type": "stream",
     "text": [
      "Subject 2, ROI Amygdala, Split 5\n"
     ]
    },
    {
     "name": "stderr",
     "output_type": "stream",
     "text": [
      "/Users/farzaneh/opt/anaconda3/envs/open_pom/lib/python3.9/site-packages/scipy/stats/_stats_py.py:4068: PearsonRConstantInputWarning: An input array is constant; the correlation coefficient is not defined.\n",
      "  warnings.warn(PearsonRConstantInputWarning())\n"
     ]
    },
    {
     "name": "stdout",
     "output_type": "stream",
     "text": [
      "Subject 2, ROI Amygdala, Split 6\n"
     ]
    },
    {
     "name": "stderr",
     "output_type": "stream",
     "text": [
      "/Users/farzaneh/opt/anaconda3/envs/open_pom/lib/python3.9/site-packages/scipy/stats/_stats_py.py:4068: PearsonRConstantInputWarning: An input array is constant; the correlation coefficient is not defined.\n",
      "  warnings.warn(PearsonRConstantInputWarning())\n"
     ]
    },
    {
     "name": "stdout",
     "output_type": "stream",
     "text": [
      "Subject 2, ROI Amygdala, Split 7\n"
     ]
    },
    {
     "name": "stderr",
     "output_type": "stream",
     "text": [
      "/Users/farzaneh/opt/anaconda3/envs/open_pom/lib/python3.9/site-packages/scipy/stats/_stats_py.py:4068: PearsonRConstantInputWarning: An input array is constant; the correlation coefficient is not defined.\n",
      "  warnings.warn(PearsonRConstantInputWarning())\n"
     ]
    },
    {
     "name": "stdout",
     "output_type": "stream",
     "text": [
      "Subject 2, ROI Amygdala, Split 8\n"
     ]
    },
    {
     "name": "stderr",
     "output_type": "stream",
     "text": [
      "/Users/farzaneh/opt/anaconda3/envs/open_pom/lib/python3.9/site-packages/scipy/stats/_stats_py.py:4068: PearsonRConstantInputWarning: An input array is constant; the correlation coefficient is not defined.\n",
      "  warnings.warn(PearsonRConstantInputWarning())\n"
     ]
    },
    {
     "name": "stdout",
     "output_type": "stream",
     "text": [
      "Subject 2, ROI Amygdala, Split 9\n"
     ]
    },
    {
     "name": "stderr",
     "output_type": "stream",
     "text": [
      "/Users/farzaneh/opt/anaconda3/envs/open_pom/lib/python3.9/site-packages/scipy/stats/_stats_py.py:4068: PearsonRConstantInputWarning: An input array is constant; the correlation coefficient is not defined.\n",
      "  warnings.warn(PearsonRConstantInputWarning())\n"
     ]
    },
    {
     "name": "stdout",
     "output_type": "stream",
     "text": [
      "Subject 2, ROI OFC, Split 0\n"
     ]
    },
    {
     "name": "stderr",
     "output_type": "stream",
     "text": [
      "/Users/farzaneh/opt/anaconda3/envs/open_pom/lib/python3.9/site-packages/scipy/stats/_stats_py.py:4068: PearsonRConstantInputWarning: An input array is constant; the correlation coefficient is not defined.\n",
      "  warnings.warn(PearsonRConstantInputWarning())\n",
      "/var/folders/s8/bznqh0v13ddg31lz919tkrmc0000gn/T/ipykernel_53534/739174471.py:42: RuntimeWarning: invalid value encountered in sqrt\n",
      "  corr_vals = np.sqrt((2*corr_vals)/(1+corr_vals))\n"
     ]
    },
    {
     "name": "stdout",
     "output_type": "stream",
     "text": [
      "Subject 2, ROI OFC, Split 1\n"
     ]
    },
    {
     "name": "stderr",
     "output_type": "stream",
     "text": [
      "/Users/farzaneh/opt/anaconda3/envs/open_pom/lib/python3.9/site-packages/scipy/stats/_stats_py.py:4068: PearsonRConstantInputWarning: An input array is constant; the correlation coefficient is not defined.\n",
      "  warnings.warn(PearsonRConstantInputWarning())\n",
      "/var/folders/s8/bznqh0v13ddg31lz919tkrmc0000gn/T/ipykernel_53534/739174471.py:42: RuntimeWarning: invalid value encountered in sqrt\n",
      "  corr_vals = np.sqrt((2*corr_vals)/(1+corr_vals))\n"
     ]
    },
    {
     "name": "stdout",
     "output_type": "stream",
     "text": [
      "Subject 2, ROI OFC, Split 2\n"
     ]
    },
    {
     "name": "stderr",
     "output_type": "stream",
     "text": [
      "/Users/farzaneh/opt/anaconda3/envs/open_pom/lib/python3.9/site-packages/scipy/stats/_stats_py.py:4068: PearsonRConstantInputWarning: An input array is constant; the correlation coefficient is not defined.\n",
      "  warnings.warn(PearsonRConstantInputWarning())\n",
      "/var/folders/s8/bznqh0v13ddg31lz919tkrmc0000gn/T/ipykernel_53534/739174471.py:42: RuntimeWarning: invalid value encountered in sqrt\n",
      "  corr_vals = np.sqrt((2*corr_vals)/(1+corr_vals))\n"
     ]
    },
    {
     "name": "stdout",
     "output_type": "stream",
     "text": [
      "Subject 2, ROI OFC, Split 3\n"
     ]
    },
    {
     "name": "stderr",
     "output_type": "stream",
     "text": [
      "/Users/farzaneh/opt/anaconda3/envs/open_pom/lib/python3.9/site-packages/scipy/stats/_stats_py.py:4068: PearsonRConstantInputWarning: An input array is constant; the correlation coefficient is not defined.\n",
      "  warnings.warn(PearsonRConstantInputWarning())\n",
      "/var/folders/s8/bznqh0v13ddg31lz919tkrmc0000gn/T/ipykernel_53534/739174471.py:42: RuntimeWarning: invalid value encountered in sqrt\n",
      "  corr_vals = np.sqrt((2*corr_vals)/(1+corr_vals))\n"
     ]
    },
    {
     "name": "stdout",
     "output_type": "stream",
     "text": [
      "Subject 2, ROI OFC, Split 4\n"
     ]
    },
    {
     "name": "stderr",
     "output_type": "stream",
     "text": [
      "/Users/farzaneh/opt/anaconda3/envs/open_pom/lib/python3.9/site-packages/scipy/stats/_stats_py.py:4068: PearsonRConstantInputWarning: An input array is constant; the correlation coefficient is not defined.\n",
      "  warnings.warn(PearsonRConstantInputWarning())\n",
      "/var/folders/s8/bznqh0v13ddg31lz919tkrmc0000gn/T/ipykernel_53534/739174471.py:42: RuntimeWarning: invalid value encountered in sqrt\n",
      "  corr_vals = np.sqrt((2*corr_vals)/(1+corr_vals))\n"
     ]
    },
    {
     "name": "stdout",
     "output_type": "stream",
     "text": [
      "Subject 2, ROI OFC, Split 5\n"
     ]
    },
    {
     "name": "stderr",
     "output_type": "stream",
     "text": [
      "/Users/farzaneh/opt/anaconda3/envs/open_pom/lib/python3.9/site-packages/scipy/stats/_stats_py.py:4068: PearsonRConstantInputWarning: An input array is constant; the correlation coefficient is not defined.\n",
      "  warnings.warn(PearsonRConstantInputWarning())\n",
      "/var/folders/s8/bznqh0v13ddg31lz919tkrmc0000gn/T/ipykernel_53534/739174471.py:42: RuntimeWarning: invalid value encountered in sqrt\n",
      "  corr_vals = np.sqrt((2*corr_vals)/(1+corr_vals))\n"
     ]
    },
    {
     "name": "stdout",
     "output_type": "stream",
     "text": [
      "Subject 2, ROI OFC, Split 6\n"
     ]
    },
    {
     "name": "stderr",
     "output_type": "stream",
     "text": [
      "/Users/farzaneh/opt/anaconda3/envs/open_pom/lib/python3.9/site-packages/scipy/stats/_stats_py.py:4068: PearsonRConstantInputWarning: An input array is constant; the correlation coefficient is not defined.\n",
      "  warnings.warn(PearsonRConstantInputWarning())\n",
      "/var/folders/s8/bznqh0v13ddg31lz919tkrmc0000gn/T/ipykernel_53534/739174471.py:42: RuntimeWarning: invalid value encountered in sqrt\n",
      "  corr_vals = np.sqrt((2*corr_vals)/(1+corr_vals))\n"
     ]
    },
    {
     "name": "stdout",
     "output_type": "stream",
     "text": [
      "Subject 2, ROI OFC, Split 7\n"
     ]
    },
    {
     "name": "stderr",
     "output_type": "stream",
     "text": [
      "/Users/farzaneh/opt/anaconda3/envs/open_pom/lib/python3.9/site-packages/scipy/stats/_stats_py.py:4068: PearsonRConstantInputWarning: An input array is constant; the correlation coefficient is not defined.\n",
      "  warnings.warn(PearsonRConstantInputWarning())\n"
     ]
    },
    {
     "name": "stdout",
     "output_type": "stream",
     "text": [
      "Subject 2, ROI OFC, Split 8\n"
     ]
    },
    {
     "name": "stderr",
     "output_type": "stream",
     "text": [
      "/Users/farzaneh/opt/anaconda3/envs/open_pom/lib/python3.9/site-packages/scipy/stats/_stats_py.py:4068: PearsonRConstantInputWarning: An input array is constant; the correlation coefficient is not defined.\n",
      "  warnings.warn(PearsonRConstantInputWarning())\n",
      "/var/folders/s8/bznqh0v13ddg31lz919tkrmc0000gn/T/ipykernel_53534/739174471.py:42: RuntimeWarning: invalid value encountered in sqrt\n",
      "  corr_vals = np.sqrt((2*corr_vals)/(1+corr_vals))\n"
     ]
    },
    {
     "name": "stdout",
     "output_type": "stream",
     "text": [
      "Subject 2, ROI OFC, Split 9\n"
     ]
    },
    {
     "name": "stderr",
     "output_type": "stream",
     "text": [
      "/Users/farzaneh/opt/anaconda3/envs/open_pom/lib/python3.9/site-packages/scipy/stats/_stats_py.py:4068: PearsonRConstantInputWarning: An input array is constant; the correlation coefficient is not defined.\n",
      "  warnings.warn(PearsonRConstantInputWarning())\n",
      "/var/folders/s8/bznqh0v13ddg31lz919tkrmc0000gn/T/ipykernel_53534/739174471.py:42: RuntimeWarning: invalid value encountered in sqrt\n",
      "  corr_vals = np.sqrt((2*corr_vals)/(1+corr_vals))\n"
     ]
    },
    {
     "name": "stdout",
     "output_type": "stream",
     "text": [
      "Subject 3, ROI APC, Split 0\n",
      "Subject 3, ROI APC, Split 1\n",
      "Subject 3, ROI APC, Split 2\n",
      "Subject 3, ROI APC, Split 3\n",
      "Subject 3, ROI APC, Split 4\n",
      "Subject 3, ROI APC, Split 5\n",
      "Subject 3, ROI APC, Split 6\n",
      "Subject 3, ROI APC, Split 7\n",
      "Subject 3, ROI APC, Split 8\n",
      "Subject 3, ROI APC, Split 9\n",
      "Subject 3, ROI PPC, Split 0\n",
      "Subject 3, ROI PPC, Split 1\n",
      "Subject 3, ROI PPC, Split 2\n",
      "Subject 3, ROI PPC, Split 3\n",
      "Subject 3, ROI PPC, Split 4\n",
      "Subject 3, ROI PPC, Split 5\n",
      "Subject 3, ROI PPC, Split 6\n",
      "Subject 3, ROI PPC, Split 7\n",
      "Subject 3, ROI PPC, Split 8\n",
      "Subject 3, ROI PPC, Split 9\n",
      "Subject 3, ROI Amygdala, Split 0\n",
      "Subject 3, ROI Amygdala, Split 1\n",
      "Subject 3, ROI Amygdala, Split 2\n",
      "Subject 3, ROI Amygdala, Split 3\n",
      "Subject 3, ROI Amygdala, Split 4\n",
      "Subject 3, ROI Amygdala, Split 5\n",
      "Subject 3, ROI Amygdala, Split 6\n",
      "Subject 3, ROI Amygdala, Split 7\n",
      "Subject 3, ROI Amygdala, Split 8\n",
      "Subject 3, ROI Amygdala, Split 9\n",
      "Subject 3, ROI OFC, Split 0\n"
     ]
    },
    {
     "name": "stderr",
     "output_type": "stream",
     "text": [
      "/Users/farzaneh/opt/anaconda3/envs/open_pom/lib/python3.9/site-packages/scipy/stats/_stats_py.py:4068: PearsonRConstantInputWarning: An input array is constant; the correlation coefficient is not defined.\n",
      "  warnings.warn(PearsonRConstantInputWarning())\n"
     ]
    },
    {
     "name": "stdout",
     "output_type": "stream",
     "text": [
      "Subject 3, ROI OFC, Split 1\n"
     ]
    },
    {
     "name": "stderr",
     "output_type": "stream",
     "text": [
      "/Users/farzaneh/opt/anaconda3/envs/open_pom/lib/python3.9/site-packages/scipy/stats/_stats_py.py:4068: PearsonRConstantInputWarning: An input array is constant; the correlation coefficient is not defined.\n",
      "  warnings.warn(PearsonRConstantInputWarning())\n"
     ]
    },
    {
     "name": "stdout",
     "output_type": "stream",
     "text": [
      "Subject 3, ROI OFC, Split 2\n"
     ]
    },
    {
     "name": "stderr",
     "output_type": "stream",
     "text": [
      "/Users/farzaneh/opt/anaconda3/envs/open_pom/lib/python3.9/site-packages/scipy/stats/_stats_py.py:4068: PearsonRConstantInputWarning: An input array is constant; the correlation coefficient is not defined.\n",
      "  warnings.warn(PearsonRConstantInputWarning())\n"
     ]
    },
    {
     "name": "stdout",
     "output_type": "stream",
     "text": [
      "Subject 3, ROI OFC, Split 3\n"
     ]
    },
    {
     "name": "stderr",
     "output_type": "stream",
     "text": [
      "/Users/farzaneh/opt/anaconda3/envs/open_pom/lib/python3.9/site-packages/scipy/stats/_stats_py.py:4068: PearsonRConstantInputWarning: An input array is constant; the correlation coefficient is not defined.\n",
      "  warnings.warn(PearsonRConstantInputWarning())\n"
     ]
    },
    {
     "name": "stdout",
     "output_type": "stream",
     "text": [
      "Subject 3, ROI OFC, Split 4\n"
     ]
    },
    {
     "name": "stderr",
     "output_type": "stream",
     "text": [
      "/Users/farzaneh/opt/anaconda3/envs/open_pom/lib/python3.9/site-packages/scipy/stats/_stats_py.py:4068: PearsonRConstantInputWarning: An input array is constant; the correlation coefficient is not defined.\n",
      "  warnings.warn(PearsonRConstantInputWarning())\n"
     ]
    },
    {
     "name": "stdout",
     "output_type": "stream",
     "text": [
      "Subject 3, ROI OFC, Split 5\n"
     ]
    },
    {
     "name": "stderr",
     "output_type": "stream",
     "text": [
      "/Users/farzaneh/opt/anaconda3/envs/open_pom/lib/python3.9/site-packages/scipy/stats/_stats_py.py:4068: PearsonRConstantInputWarning: An input array is constant; the correlation coefficient is not defined.\n",
      "  warnings.warn(PearsonRConstantInputWarning())\n"
     ]
    },
    {
     "name": "stdout",
     "output_type": "stream",
     "text": [
      "Subject 3, ROI OFC, Split 6\n"
     ]
    },
    {
     "name": "stderr",
     "output_type": "stream",
     "text": [
      "/Users/farzaneh/opt/anaconda3/envs/open_pom/lib/python3.9/site-packages/scipy/stats/_stats_py.py:4068: PearsonRConstantInputWarning: An input array is constant; the correlation coefficient is not defined.\n",
      "  warnings.warn(PearsonRConstantInputWarning())\n",
      "/var/folders/s8/bznqh0v13ddg31lz919tkrmc0000gn/T/ipykernel_53534/739174471.py:42: RuntimeWarning: invalid value encountered in sqrt\n",
      "  corr_vals = np.sqrt((2*corr_vals)/(1+corr_vals))\n"
     ]
    },
    {
     "name": "stdout",
     "output_type": "stream",
     "text": [
      "Subject 3, ROI OFC, Split 7\n"
     ]
    },
    {
     "name": "stderr",
     "output_type": "stream",
     "text": [
      "/Users/farzaneh/opt/anaconda3/envs/open_pom/lib/python3.9/site-packages/scipy/stats/_stats_py.py:4068: PearsonRConstantInputWarning: An input array is constant; the correlation coefficient is not defined.\n",
      "  warnings.warn(PearsonRConstantInputWarning())\n",
      "/var/folders/s8/bznqh0v13ddg31lz919tkrmc0000gn/T/ipykernel_53534/739174471.py:42: RuntimeWarning: invalid value encountered in sqrt\n",
      "  corr_vals = np.sqrt((2*corr_vals)/(1+corr_vals))\n"
     ]
    },
    {
     "name": "stdout",
     "output_type": "stream",
     "text": [
      "Subject 3, ROI OFC, Split 8\n"
     ]
    },
    {
     "name": "stderr",
     "output_type": "stream",
     "text": [
      "/Users/farzaneh/opt/anaconda3/envs/open_pom/lib/python3.9/site-packages/scipy/stats/_stats_py.py:4068: PearsonRConstantInputWarning: An input array is constant; the correlation coefficient is not defined.\n",
      "  warnings.warn(PearsonRConstantInputWarning())\n",
      "/var/folders/s8/bznqh0v13ddg31lz919tkrmc0000gn/T/ipykernel_53534/739174471.py:42: RuntimeWarning: invalid value encountered in sqrt\n",
      "  corr_vals = np.sqrt((2*corr_vals)/(1+corr_vals))\n"
     ]
    },
    {
     "name": "stdout",
     "output_type": "stream",
     "text": [
      "Subject 3, ROI OFC, Split 9\n"
     ]
    },
    {
     "name": "stderr",
     "output_type": "stream",
     "text": [
      "/Users/farzaneh/opt/anaconda3/envs/open_pom/lib/python3.9/site-packages/scipy/stats/_stats_py.py:4068: PearsonRConstantInputWarning: An input array is constant; the correlation coefficient is not defined.\n",
      "  warnings.warn(PearsonRConstantInputWarning())\n",
      "/var/folders/s8/bznqh0v13ddg31lz919tkrmc0000gn/T/ipykernel_53534/739174471.py:42: RuntimeWarning: invalid value encountered in sqrt\n",
      "  corr_vals = np.sqrt((2*corr_vals)/(1+corr_vals))\n"
     ]
    }
   ],
   "execution_count": 13
  },
  {
   "metadata": {
    "ExecuteTime": {
     "end_time": "2025-03-13T09:13:06.543096Z",
     "start_time": "2025-03-13T09:13:06.505649Z"
    }
   },
   "cell_type": "code",
   "source": [
    "\n",
    "def compute_split_session(a,cid_rows, n_voxels,s1,s2):\n",
    "    # Create 3D array for this CID's data\n",
    "    session1_rows = cid_rows[cid_rows['session'] == s1]\n",
    "    session2_rows = cid_rows[cid_rows['session'] == s2]\n",
    "\n",
    "    if session1_rows.empty or session2_rows.empty:\n",
    "        print(\"empty\")\n",
    "        return None, None\n",
    "        # Skip if one of the sessions is missing\n",
    "\n",
    "    n_repetition1 = len(session1_rows)\n",
    "    n_repetition2 = len(session2_rows)\n",
    "\n",
    "    array_3d_s1 = np.zeros((n_repetition1, 11, n_voxels))\n",
    "    array_3d_s2 = np.zeros((n_repetition2, 11, n_voxels))\n",
    "\n",
    "    for row_idx, (_, row) in enumerate(session1_rows.iterrows()):\n",
    "        for col_idx, col in enumerate(a.columns.difference(['CID', 'subject', 'roi', 'run', 'session', 'set'])):\n",
    "            array_3d_s1[row_idx, :, col_idx] = row[col]\n",
    "\n",
    "    for row_idx, (_, row) in enumerate(session2_rows.iterrows()):\n",
    "        for col_idx, col in enumerate(a.columns.difference(['CID', 'subject', 'roi', 'run', 'session', 'set'])):\n",
    "            array_3d_s2[row_idx, :, col_idx] = row[col]\n",
    "\n",
    "    # Average over repetitions for each session\n",
    "    avg_s1 = array_3d_s1.mean(axis=0)\n",
    "    avg_s2 = array_3d_s2.mean(axis=0)\n",
    "\n",
    "    # Compute peak average\n",
    "    peak_avg_s1 = np.max(avg_s1, axis=0)\n",
    "    peak_avg_s2 = np.max(avg_s2, axis=0)\n",
    "\n",
    "    # Compute correlation for each voxel\n",
    "\n",
    "\n",
    "    return peak_avg_s1,peak_avg_s2"
   ],
   "id": "77306562bf742618",
   "outputs": [],
   "execution_count": 11
  },
  {
   "metadata": {
    "ExecuteTime": {
     "end_time": "2025-03-13T09:22:05.451863Z",
     "start_time": "2025-03-13T09:22:05.439521Z"
    }
   },
   "cell_type": "code",
   "source": "",
   "id": "822cf29a8c96a955",
   "outputs": [
    {
     "data": {
      "text/plain": [
       "array([2, 3, 4])"
      ]
     },
     "execution_count": 17,
     "metadata": {},
     "output_type": "execute_result"
    }
   ],
   "execution_count": 17
  },
  {
   "metadata": {
    "ExecuteTime": {
     "end_time": "2025-03-13T12:40:59.195110Z",
     "start_time": "2025-03-13T12:12:44.775245Z"
    }
   },
   "cell_type": "code",
   "source": [
    "# num_splits = 10\n",
    "\n",
    "# for subject in [3]:\n",
    "for subject in [1]:\n",
    "    for roi in ['PirF','PirT','AMY','OFC']:\n",
    "    # for roi in ['OFC']:\n",
    "\n",
    "        df_all = pd.DataFrame()\n",
    "\n",
    "        a = pd.read_csv(base_dir+f\"/single_trial/fmri_{subject}_{roi}.csv\")\n",
    "        a_copy = a.copy()\n",
    "        for col in a.columns.difference(['CID','subject','roi','run','session','set']):\n",
    "            a_copy[col] = a_copy[col].apply(ast.literal_eval)\n",
    "\n",
    "        # list_of_3d_arrays = [\n",
    "\n",
    "\n",
    "\n",
    "        unique_cids = a_copy['CID'].unique()\n",
    "        unique_sessions= a_copy['session'].unique()\n",
    "        n_voxels = len([col for col in a_copy.columns.difference(['CID','subject','roi','run','session','set'])])\n",
    "\n",
    "        # voxel_corrs = np.zeros((3, n_voxels))\n",
    "\n",
    "\n",
    "        session_pairs  = list(combinations(unique_sessions, 2))  # Define session pairs\n",
    "        # results = {}\n",
    "\n",
    "        for session1, session2 in session_pairs:\n",
    "        # for split_idx in range(num_splits):\n",
    "            print(f\"Subject {subject}, ROI {roi}, Split {session1}-{session2}\")\n",
    "            split_corrs = []# Store correlations across all splits for each voxel\n",
    "\n",
    "\n",
    "            half_avgs = np.zeros((2,len(unique_cids),n_voxels))\n",
    "            for cid_idx,cid in enumerate(unique_cids):\n",
    "                cid_rows = a_copy[a_copy['CID'] == cid]\n",
    "                n_repetition = len(cid_rows)\n",
    "\n",
    "                peak_avg_half1,peak_avg_half2 = compute_split_session(a,cid_rows, n_voxels,session1,session2)\n",
    "                half_avgs[0,cid_idx] = peak_avg_half1\n",
    "                half_avgs[1,cid_idx] = peak_avg_half2\n",
    "\n",
    "\n",
    "\n",
    "\n",
    "            #replace the nans and infs with zeros\n",
    "            half_avgs = np.nan_to_num(half_avgs)\n",
    "            half_avgs = np.where(np.isinf(half_avgs), 0, half_avgs)\n",
    "            corr_vals = np.array([pearsonr(half_avgs[0, :,v], half_avgs[1,:, v])[0] for v in range(n_voxels)])\n",
    "            corr_vals = np.sqrt((2*corr_vals)/(1+corr_vals))\n",
    "\n",
    "            corr_vals = np.nan_to_num(corr_vals)\n",
    "            corr_vals = np.where(np.isinf(corr_vals), 0, corr_vals)\n",
    "\n",
    "\n",
    "            # voxel_corrs[split_idx] = corr_vals\n",
    "\n",
    "            #apply spearman brown correction\n",
    "\n",
    "\n",
    "\n",
    "\n",
    "            #save in a dataframe together with the subject, roi, split_idx\n",
    "            fmri_df = pd.DataFrame(corr_vals, columns=['fmri'])\n",
    "            fmri_df['voxel'] = np.arange(n_voxels)\n",
    "            fmri_df['subject'] = subject\n",
    "            fmri_df['roi'] = roi\n",
    "            fmri_df['s1'] = session1\n",
    "            fmri_df['s2'] = session2\n",
    "            df_all = pd.concat([df_all, fmri_df], axis=0)\n",
    "\n",
    "        df_all.to_csv(base_dir+f\"/noise_ceiling_session_{subject}_{roi}.csv\", index=False)\n"
   ],
   "id": "90111b5d87f8f879",
   "outputs": [
    {
     "name": "stdout",
     "output_type": "stream",
     "text": [
      "Subject 1, ROI PirF, Split 1-2\n"
     ]
    },
    {
     "name": "stderr",
     "output_type": "stream",
     "text": [
      "/var/folders/s8/bznqh0v13ddg31lz919tkrmc0000gn/T/ipykernel_8117/3027861395.py:51: RuntimeWarning: invalid value encountered in sqrt\n",
      "  corr_vals = np.sqrt((2*corr_vals)/(1+corr_vals))\n"
     ]
    },
    {
     "name": "stdout",
     "output_type": "stream",
     "text": [
      "Subject 1, ROI PirF, Split 1-3\n"
     ]
    },
    {
     "name": "stderr",
     "output_type": "stream",
     "text": [
      "/var/folders/s8/bznqh0v13ddg31lz919tkrmc0000gn/T/ipykernel_8117/3027861395.py:51: RuntimeWarning: invalid value encountered in sqrt\n",
      "  corr_vals = np.sqrt((2*corr_vals)/(1+corr_vals))\n"
     ]
    },
    {
     "name": "stdout",
     "output_type": "stream",
     "text": [
      "Subject 1, ROI PirF, Split 2-3\n",
      "Subject 1, ROI PirT, Split 1-2\n"
     ]
    },
    {
     "name": "stderr",
     "output_type": "stream",
     "text": [
      "/var/folders/s8/bznqh0v13ddg31lz919tkrmc0000gn/T/ipykernel_8117/3027861395.py:51: RuntimeWarning: invalid value encountered in sqrt\n",
      "  corr_vals = np.sqrt((2*corr_vals)/(1+corr_vals))\n"
     ]
    },
    {
     "name": "stdout",
     "output_type": "stream",
     "text": [
      "Subject 1, ROI PirT, Split 1-3\n"
     ]
    },
    {
     "name": "stderr",
     "output_type": "stream",
     "text": [
      "/var/folders/s8/bznqh0v13ddg31lz919tkrmc0000gn/T/ipykernel_8117/3027861395.py:51: RuntimeWarning: invalid value encountered in sqrt\n",
      "  corr_vals = np.sqrt((2*corr_vals)/(1+corr_vals))\n"
     ]
    },
    {
     "name": "stdout",
     "output_type": "stream",
     "text": [
      "Subject 1, ROI PirT, Split 2-3\n",
      "Subject 1, ROI AMY, Split 1-2\n"
     ]
    },
    {
     "name": "stderr",
     "output_type": "stream",
     "text": [
      "/var/folders/s8/bznqh0v13ddg31lz919tkrmc0000gn/T/ipykernel_8117/3027861395.py:51: RuntimeWarning: invalid value encountered in sqrt\n",
      "  corr_vals = np.sqrt((2*corr_vals)/(1+corr_vals))\n"
     ]
    },
    {
     "name": "stdout",
     "output_type": "stream",
     "text": [
      "Subject 1, ROI AMY, Split 1-3\n"
     ]
    },
    {
     "name": "stderr",
     "output_type": "stream",
     "text": [
      "/var/folders/s8/bznqh0v13ddg31lz919tkrmc0000gn/T/ipykernel_8117/3027861395.py:51: RuntimeWarning: invalid value encountered in sqrt\n",
      "  corr_vals = np.sqrt((2*corr_vals)/(1+corr_vals))\n"
     ]
    },
    {
     "name": "stdout",
     "output_type": "stream",
     "text": [
      "Subject 1, ROI AMY, Split 2-3\n",
      "Subject 1, ROI OFC, Split 1-2\n"
     ]
    },
    {
     "name": "stderr",
     "output_type": "stream",
     "text": [
      "/Users/farzaneh/opt/anaconda3/envs/open_pom/lib/python3.9/site-packages/scipy/stats/_stats_py.py:4068: PearsonRConstantInputWarning: An input array is constant; the correlation coefficient is not defined.\n",
      "  warnings.warn(PearsonRConstantInputWarning())\n",
      "/var/folders/s8/bznqh0v13ddg31lz919tkrmc0000gn/T/ipykernel_8117/3027861395.py:51: RuntimeWarning: invalid value encountered in sqrt\n",
      "  corr_vals = np.sqrt((2*corr_vals)/(1+corr_vals))\n"
     ]
    },
    {
     "name": "stdout",
     "output_type": "stream",
     "text": [
      "Subject 1, ROI OFC, Split 1-3\n"
     ]
    },
    {
     "name": "stderr",
     "output_type": "stream",
     "text": [
      "/Users/farzaneh/opt/anaconda3/envs/open_pom/lib/python3.9/site-packages/scipy/stats/_stats_py.py:4068: PearsonRConstantInputWarning: An input array is constant; the correlation coefficient is not defined.\n",
      "  warnings.warn(PearsonRConstantInputWarning())\n",
      "/var/folders/s8/bznqh0v13ddg31lz919tkrmc0000gn/T/ipykernel_8117/3027861395.py:51: RuntimeWarning: invalid value encountered in sqrt\n",
      "  corr_vals = np.sqrt((2*corr_vals)/(1+corr_vals))\n"
     ]
    },
    {
     "name": "stdout",
     "output_type": "stream",
     "text": [
      "Subject 1, ROI OFC, Split 2-3\n"
     ]
    },
    {
     "name": "stderr",
     "output_type": "stream",
     "text": [
      "/Users/farzaneh/opt/anaconda3/envs/open_pom/lib/python3.9/site-packages/scipy/stats/_stats_py.py:4068: PearsonRConstantInputWarning: An input array is constant; the correlation coefficient is not defined.\n",
      "  warnings.warn(PearsonRConstantInputWarning())\n",
      "/var/folders/s8/bznqh0v13ddg31lz919tkrmc0000gn/T/ipykernel_8117/3027861395.py:51: RuntimeWarning: invalid value encountered in sqrt\n",
      "  corr_vals = np.sqrt((2*corr_vals)/(1+corr_vals))\n"
     ]
    }
   ],
   "execution_count": 22
  },
  {
   "metadata": {
    "ExecuteTime": {
     "end_time": "2025-03-13T12:41:02.735892Z",
     "start_time": "2025-03-13T12:40:59.377814Z"
    }
   },
   "cell_type": "code",
   "source": [
    "fig,ax = plt.subplots(3,4,figsize=(20,10))\n",
    "#rw<masks>nii = masks for PirF (rw.APC,nii), PirT (rw.PPC.nii), AMY (rwAmygdala.nii), OFC (rwOFC.nii)\n",
    "\n",
    "for subject in [2,3]:\n",
    "    for i,roi in enumerate([\"PirF\",\"PirT\",\"AMY\",\"OFC\"]):\n",
    "        df = pd.read_csv(base_dir+f\"/noise_ceiling/noise_ceiling_session_{subject}_{roi}.csv\")\n",
    "        df=df.groupby(\"voxel\").mean(['fmri'])\n",
    "        sns.histplot(data=df,x='fmri',ax=ax[(subject-1),i],kde=True)\n",
    "        ax[subject-1,i].set_title(f\"Subject {subject} {roi}\")\n",
    "handles, labels = ax[0,0].get_legend_handles_labels()\n",
    "fig.legend(handles, labels, loc='upper right')\n",
    "plt.tight_layout()\n",
    "\n",
    "plt.savefig(f\"{base_dir}/noise_ceiling/noiseceilingsession_hist.pdf\")"
   ],
   "id": "3c99ed19f92409bf",
   "outputs": [
    {
     "data": {
      "text/plain": [
       "<Figure size 2000x1000 with 12 Axes>"
      ],
      "image/png": "[encoded data removed]"
     },
     "metadata": {},
     "output_type": "display_data"
    }
   ],
   "execution_count": 23
  },
  {
   "metadata": {
    "ExecuteTime": {
     "end_time": "2025-03-12T12:26:17.034363Z",
     "start_time": "2025-03-12T12:26:17.009985Z"
    }
   },
   "cell_type": "code",
   "source": [
    "subject=2\n",
    "roi= \"PirF\"\n",
    "df = pd.read_csv(base_dir+f\"/noise_ceiling/noise_ceiling_session_{subject}_{roi}.csv\")\n",
    "df=df.groupby(\"voxel\").mean(['fmri'])"
   ],
   "id": "8919f0e40bba7ab3",
   "outputs": [],
   "execution_count": 5
  }
 ],
 "metadata": {
  "kernelspec": {
   "display_name": "Python 3",
   "language": "python",
   "name": "python3"
  },
  "language_info": {
   "codemirror_mode": {
    "name": "ipython",
    "version": 2
   },
   "file_extension": ".py",
   "mimetype": "text/x-python",
   "name": "python",
   "nbconvert_exporter": "python",
   "pygments_lexer": "ipython2",
   "version": "2.7.6"
  }
 },
 "nbformat": 4,
 "nbformat_minor": 5
}
