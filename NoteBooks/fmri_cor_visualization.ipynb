{
 "cells": [
  {
   "cell_type": "code",
   "id": "initial_id",
   "metadata": {
    "collapsed": true,
    "ExecuteTime": {
     "end_time": "2024-10-20T13:53:29.782958Z",
     "start_time": "2024-10-20T13:53:28.979396Z"
    }
   },
   "source": [
    "import pandas as pd\n",
    "import numpy as np\n",
    "import scipy\n",
    "from scipy.io import savemat\n",
    "import nilearn"
   ],
   "outputs": [],
   "execution_count": 5
  },
  {
   "metadata": {
    "ExecuteTime": {
     "end_time": "2024-10-20T13:53:39.316855Z",
     "start_time": "2024-10-20T13:53:39.313996Z"
    }
   },
   "cell_type": "code",
   "source": "base_path = '../../../T5 EVO/alignment_olfaction_datasets/curated_datasets'",
   "id": "4a98e93921b258e",
   "outputs": [],
   "execution_count": 9
  },
  {
   "metadata": {
    "ExecuteTime": {
     "end_time": "2024-10-20T13:55:32.394649Z",
     "start_time": "2024-10-20T13:55:32.392395Z"
    }
   },
   "cell_type": "code",
   "source": [
    "roi = 'PPC'\n",
    "s = 'S3'\n",
    "model='molformer'"
   ],
   "id": "b88b0e35a7164c2e",
   "outputs": [],
   "execution_count": 40
  },
  {
   "metadata": {},
   "cell_type": "markdown",
   "source": "",
   "id": "5d786b0d14b60967"
  },
  {
   "metadata": {
    "ExecuteTime": {
     "end_time": "2024-10-20T13:55:37.752926Z",
     "start_time": "2024-10-20T13:55:37.628214Z"
    }
   },
   "cell_type": "code",
   "source": [
    "metrics= pd.read_csv(f'{base_path}/dfs_result_fmri/df_fmri_sagar_metrics_{roi}_{s}_{model}.csv')\n",
    "metrics_cor_lastlayer_molformer  = metrics[(metrics['layer']==13) & (metrics['type']=='cor') & (metrics['model']==model)] \n",
    "metrics_cor_lastlayer_molformer.head(5)\n",
    "metrics_cor_lastlayer_molformer_df = metrics_cor_lastlayer_molformer.drop(columns=['type', 'layer', 'model'])\n",
    "metrics_cor_lastlayer_molformer_numpy = metrics_cor_lastlayer_molformer_df.groupby('voxel').mean().sort_values(by='voxel', ascending=True).to_numpy()\n",
    "metrics_cor_lastlayer_molformer_numpy = metrics_cor_lastlayer_molformer_numpy[:, :, np.newaxis]\n",
    "metrics_cor_lastlayer_molformer_numpy = metrics_cor_lastlayer_molformer_numpy[:,:, np.newaxis]\n",
    "metrics_cor_lastlayer_molformer_numpy.shape\n",
    "savemat(f'{base_path}/dfs_result_fmri/df_fmri_sagar_metrics_{roi}_{s}_{model}.mat', {'corr_coef':metrics_cor_lastlayer_molformer_numpy})\n"
   ],
   "id": "e11043bf9ad8a7f4",
   "outputs": [],
   "execution_count": 41
  },
  {
   "metadata": {
    "ExecuteTime": {
     "end_time": "2024-10-20T13:54:06.385862Z",
     "start_time": "2024-10-20T13:54:06.378465Z"
    }
   },
   "cell_type": "code",
   "source": "",
   "id": "60443e2cc89801dd",
   "outputs": [],
   "execution_count": 21
  },
  {
   "metadata": {
    "ExecuteTime": {
     "end_time": "2024-10-20T13:54:06.533804Z",
     "start_time": "2024-10-20T13:54:06.523510Z"
    }
   },
   "cell_type": "code",
   "source": "",
   "id": "f820fa984c268da7",
   "outputs": [
    {
     "data": {
      "text/plain": [
       "           0         1         2         3         4         5         6  \\\n",
       "20 -0.204514  0.171617 -0.147757 -0.048134 -0.069767  0.163435 -0.037712   \n",
       "21 -0.125936  0.172775 -0.071024 -0.036977  0.063401  0.120635  0.141668   \n",
       "22  0.275079 -0.054772 -0.214805 -0.144053 -0.093524 -0.086888  0.087434   \n",
       "23  0.035349  0.389916 -0.074521  0.055625  0.183627  0.072010  0.124046   \n",
       "24 -0.263674 -0.008142 -0.169590  0.055292 -0.055676  0.034743 -0.097778   \n",
       "\n",
       "           7         8         9        10      model  voxel type  layer  \n",
       "20 -0.099566  0.002028  0.090122  0.005869  molformer      0  cor     13  \n",
       "21 -0.183877  0.011170 -0.081297  0.428517  molformer      0  cor     13  \n",
       "22  0.027781 -0.099161 -0.331739  0.310542  molformer      0  cor     13  \n",
       "23 -0.223457 -0.064125  0.121739 -0.027211  molformer      0  cor     13  \n",
       "24 -0.109330 -0.081183 -0.269188  0.425353  molformer      0  cor     13  "
      ],
      "text/html": [
       "<div>\n",
       "<style scoped>\n",
       "    .dataframe tbody tr th:only-of-type {\n",
       "        vertical-align: middle;\n",
       "    }\n",
       "\n",
       "    .dataframe tbody tr th {\n",
       "        vertical-align: top;\n",
       "    }\n",
       "\n",
       "    .dataframe thead th {\n",
       "        text-align: right;\n",
       "    }\n",
       "</style>\n",
       "<table border=\"1\" class=\"dataframe\">\n",
       "  <thead>\n",
       "    <tr style=\"text-align: right;\">\n",
       "      <th></th>\n",
       "      <th>0</th>\n",
       "      <th>1</th>\n",
       "      <th>2</th>\n",
       "      <th>3</th>\n",
       "      <th>4</th>\n",
       "      <th>5</th>\n",
       "      <th>6</th>\n",
       "      <th>7</th>\n",
       "      <th>8</th>\n",
       "      <th>9</th>\n",
       "      <th>10</th>\n",
       "      <th>model</th>\n",
       "      <th>voxel</th>\n",
       "      <th>type</th>\n",
       "      <th>layer</th>\n",
       "    </tr>\n",
       "  </thead>\n",
       "  <tbody>\n",
       "    <tr>\n",
       "      <th>20</th>\n",
       "      <td>-0.204514</td>\n",
       "      <td>0.171617</td>\n",
       "      <td>-0.147757</td>\n",
       "      <td>-0.048134</td>\n",
       "      <td>-0.069767</td>\n",
       "      <td>0.163435</td>\n",
       "      <td>-0.037712</td>\n",
       "      <td>-0.099566</td>\n",
       "      <td>0.002028</td>\n",
       "      <td>0.090122</td>\n",
       "      <td>0.005869</td>\n",
       "      <td>molformer</td>\n",
       "      <td>0</td>\n",
       "      <td>cor</td>\n",
       "      <td>13</td>\n",
       "    </tr>\n",
       "    <tr>\n",
       "      <th>21</th>\n",
       "      <td>-0.125936</td>\n",
       "      <td>0.172775</td>\n",
       "      <td>-0.071024</td>\n",
       "      <td>-0.036977</td>\n",
       "      <td>0.063401</td>\n",
       "      <td>0.120635</td>\n",
       "      <td>0.141668</td>\n",
       "      <td>-0.183877</td>\n",
       "      <td>0.011170</td>\n",
       "      <td>-0.081297</td>\n",
       "      <td>0.428517</td>\n",
       "      <td>molformer</td>\n",
       "      <td>0</td>\n",
       "      <td>cor</td>\n",
       "      <td>13</td>\n",
       "    </tr>\n",
       "    <tr>\n",
       "      <th>22</th>\n",
       "      <td>0.275079</td>\n",
       "      <td>-0.054772</td>\n",
       "      <td>-0.214805</td>\n",
       "      <td>-0.144053</td>\n",
       "      <td>-0.093524</td>\n",
       "      <td>-0.086888</td>\n",
       "      <td>0.087434</td>\n",
       "      <td>0.027781</td>\n",
       "      <td>-0.099161</td>\n",
       "      <td>-0.331739</td>\n",
       "      <td>0.310542</td>\n",
       "      <td>molformer</td>\n",
       "      <td>0</td>\n",
       "      <td>cor</td>\n",
       "      <td>13</td>\n",
       "    </tr>\n",
       "    <tr>\n",
       "      <th>23</th>\n",
       "      <td>0.035349</td>\n",
       "      <td>0.389916</td>\n",
       "      <td>-0.074521</td>\n",
       "      <td>0.055625</td>\n",
       "      <td>0.183627</td>\n",
       "      <td>0.072010</td>\n",
       "      <td>0.124046</td>\n",
       "      <td>-0.223457</td>\n",
       "      <td>-0.064125</td>\n",
       "      <td>0.121739</td>\n",
       "      <td>-0.027211</td>\n",
       "      <td>molformer</td>\n",
       "      <td>0</td>\n",
       "      <td>cor</td>\n",
       "      <td>13</td>\n",
       "    </tr>\n",
       "    <tr>\n",
       "      <th>24</th>\n",
       "      <td>-0.263674</td>\n",
       "      <td>-0.008142</td>\n",
       "      <td>-0.169590</td>\n",
       "      <td>0.055292</td>\n",
       "      <td>-0.055676</td>\n",
       "      <td>0.034743</td>\n",
       "      <td>-0.097778</td>\n",
       "      <td>-0.109330</td>\n",
       "      <td>-0.081183</td>\n",
       "      <td>-0.269188</td>\n",
       "      <td>0.425353</td>\n",
       "      <td>molformer</td>\n",
       "      <td>0</td>\n",
       "      <td>cor</td>\n",
       "      <td>13</td>\n",
       "    </tr>\n",
       "  </tbody>\n",
       "</table>\n",
       "</div>"
      ]
     },
     "execution_count": 22,
     "metadata": {},
     "output_type": "execute_result"
    }
   ],
   "execution_count": 22
  },
  {
   "metadata": {
    "ExecuteTime": {
     "end_time": "2024-10-20T13:54:06.685684Z",
     "start_time": "2024-10-20T13:54:06.682245Z"
    }
   },
   "cell_type": "code",
   "source": "#select 0 to 10 columns and model voxel colum",
   "id": "82514cd0b64893ae",
   "outputs": [],
   "execution_count": 23
  },
  {
   "metadata": {
    "ExecuteTime": {
     "end_time": "2024-10-20T13:54:06.833967Z",
     "start_time": "2024-10-20T13:54:06.829334Z"
    }
   },
   "cell_type": "code",
   "source": "",
   "id": "20590c65e1380d3f",
   "outputs": [],
   "execution_count": 24
  },
  {
   "metadata": {
    "ExecuteTime": {
     "end_time": "2024-10-20T13:54:06.969599Z",
     "start_time": "2024-10-20T13:54:06.967414Z"
    }
   },
   "cell_type": "code",
   "source": "#add one dimension to the end of numpy array",
   "id": "6923d841cfbd929b",
   "outputs": [],
   "execution_count": 25
  },
  {
   "metadata": {
    "ExecuteTime": {
     "end_time": "2024-10-20T13:54:07.132858Z",
     "start_time": "2024-10-20T13:54:07.126628Z"
    }
   },
   "cell_type": "code",
   "source": "",
   "id": "c32d8961df72510",
   "outputs": [
    {
     "data": {
      "text/plain": [
       "(397, 11, 1)"
      ]
     },
     "execution_count": 26,
     "metadata": {},
     "output_type": "execute_result"
    }
   ],
   "execution_count": 26
  },
  {
   "metadata": {
    "ExecuteTime": {
     "end_time": "2024-10-20T13:54:07.288547Z",
     "start_time": "2024-10-20T13:54:07.278374Z"
    }
   },
   "cell_type": "code",
   "source": "#save numpy array as .mat file",
   "id": "e3b61f460eadf82a",
   "outputs": [],
   "execution_count": 27
  },
  {
   "metadata": {},
   "cell_type": "code",
   "outputs": [],
   "execution_count": null,
   "source": "",
   "id": "75c17b6c135bb35f"
  },
  {
   "metadata": {},
   "cell_type": "code",
   "outputs": [],
   "execution_count": null,
   "source": "",
   "id": "95974a0e0a360821"
  }
 ],
 "metadata": {
  "kernelspec": {
   "display_name": "MoLFormer_fMRI",
   "language": "python",
   "name": "molformer_fmri"
  },
  "language_info": {
   "codemirror_mode": {
    "name": "ipython",
    "version": 2
   },
   "file_extension": ".py",
   "mimetype": "text/x-python",
   "name": "python",
   "nbconvert_exporter": "python",
   "pygments_lexer": "ipython2",
   "version": "2.7.6"
  }
 },
 "nbformat": 4,
 "nbformat_minor": 5
}
